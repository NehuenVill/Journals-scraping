{
 "cells": [
  {
   "cell_type": "code",
   "execution_count": 1,
   "metadata": {},
   "outputs": [],
   "source": [
    "import requests"
   ]
  },
  {
   "cell_type": "code",
   "execution_count": 2,
   "metadata": {},
   "outputs": [],
   "source": [
    "r = requests.get(\"https://www.bloomberg.com/commodities\")"
   ]
  },
  {
   "cell_type": "code",
   "execution_count": 5,
   "metadata": {},
   "outputs": [],
   "source": [
    "with open(\"test.html\", \"x\") as f:\n",
    "\n",
    "    f.write(r.text)"
   ]
  },
  {
   "cell_type": "code",
   "execution_count": 21,
   "metadata": {},
   "outputs": [],
   "source": [
    "from uuid import uuid4\n",
    "\n",
    "session_id = str(uuid4())"
   ]
  },
  {
   "cell_type": "code",
   "execution_count": 22,
   "metadata": {},
   "outputs": [
    {
     "data": {
      "text/plain": [
       "'95c3d8db-42ee-4b1a-b20b-5f9dd3a8abfa'"
      ]
     },
     "execution_count": 22,
     "metadata": {},
     "output_type": "execute_result"
    }
   ],
   "source": [
    "session_id"
   ]
  },
  {
   "cell_type": "code",
   "execution_count": 21,
   "metadata": {},
   "outputs": [],
   "source": [
    "from dotenv import load_dotenv\n",
    "import os\n",
    "import requests\n",
    "\n",
    "\n",
    "load_dotenv()\n",
    "\n",
    "ZYTE_KEY = os.getenv('ZYTE_KEY')\n",
    "\n",
    "api_response = requests.post(\n",
    "    \"https://api.zyte.com/v1/extract\",\n",
    "    auth = (ZYTE_KEY, \"\"),\n",
    "    json = {\n",
    "  \"url\": \"https://www.wsj.com/news/markets/oil-gold-commodities-futures?mod=md_cmd_news_all\",\n",
    "  \"screenshot\": True,\n",
    "  \"browserHtml\": True,\n",
    "  \"actions\": [\n",
    "    {\n",
    "      \"action\": \"waitForNavigation\",\n",
    "      \"waitUntil\": \"load\",\n",
    "      \"timeout\": 31,\n",
    "      \"onError\": \"continue\"\n",
    "    },\n",
    "    {\n",
    "      \"action\": \"waitForSelector\",\n",
    "      \"selector\": {\n",
    "        \"type\": \"xpath\",\n",
    "        \"value\": \"//*[@id='latest-stories']\"\n",
    "      },\n",
    "      \"timeout\": 5,\n",
    "      \"onError\": \"continue\"\n",
    "    },\n",
    "    {\n",
    "      \"action\": \"waitForSelector\",\n",
    "      \"selector\": {\n",
    "        \"type\": \"xpath\",\n",
    "        \"value\": \"//*[@id='latest-stories']\"\n",
    "      },\n",
    "      \"timeout\": 5,\n",
    "      \"onError\": \"continue\"\n",
    "    }\n",
    "    ]\n",
    "}\n",
    ")   \n",
    "http_response_body = api_response.json()"
   ]
  },
  {
   "cell_type": "code",
   "execution_count": 22,
   "metadata": {},
   "outputs": [],
   "source": [
    "from bs4 import BeautifulSoup\n",
    "\n",
    "soup = BeautifulSoup(http_response_body[\"browserHtml\"],\"html.parser\")"
   ]
  },
  {
   "cell_type": "code",
   "execution_count": null,
   "metadata": {},
   "outputs": [],
   "source": [
    "soup.find(\"div\", id=\"latest-stories\")"
   ]
  },
  {
   "cell_type": "code",
   "execution_count": 31,
   "metadata": {},
   "outputs": [],
   "source": [
    "all_articles = soup.find(\"div\", id=\"latest-stories\").find_all(\"a\")"
   ]
  },
  {
   "cell_type": "code",
   "execution_count": 49,
   "metadata": {},
   "outputs": [],
   "source": [
    "article_links = []\n",
    "\n",
    "for article in all_articles:\n",
    "\n",
    "    if \"/news/markets/oil-gold-commodities-futures?page=2\" not in article.attrs[\"href\"]:\n",
    "\n",
    "        article_links.append(article.attrs[\"href\"])\n",
    "\n",
    "article_links = set(article_links)\n",
    "article_links = tuple(article_links)"
   ]
  },
  {
   "cell_type": "code",
   "execution_count": 50,
   "metadata": {},
   "outputs": [
    {
     "data": {
      "text/plain": [
       "20"
      ]
     },
     "execution_count": 50,
     "metadata": {},
     "output_type": "execute_result"
    }
   ],
   "source": [
    "len(article_links)"
   ]
  },
  {
   "cell_type": "code",
   "execution_count": 53,
   "metadata": {},
   "outputs": [],
   "source": [
    "with open(\"screen_log.jpeg\", \"wb\") as img:\n",
    "\n",
    "    binary_data = b64decode(article_body[\"screenshot\"])\n",
    "\n",
    "    img.write(binary_data)"
   ]
  },
  {
   "cell_type": "code",
   "execution_count": 57,
   "metadata": {},
   "outputs": [],
   "source": [
    "from dotenv import load_dotenv\n",
    "import os\n",
    "import requests\n",
    "from base64 import b64decode\n",
    "\n",
    "\n",
    "load_dotenv()\n",
    "\n",
    "ZYTE_KEY = os.getenv('ZYTE_KEY')\n",
    "WSJ_EMAIL = os.getenv('WSJ_EMAIL')\n",
    "WSJ_PASS = os.getenv('WSJ_PASS')\n",
    "\n",
    "\n",
    "api_response = requests.post(\n",
    "    \"https://api.zyte.com/v1/extract\",\n",
    "    auth = (ZYTE_KEY, \"\"),\n",
    "    json = {\n",
    "  \"url\": article_links[0],\n",
    "  \"screenshot\": True,\n",
    "  \"browserHtml\": True,\n",
    "  \"actions\": [\n",
    "    {\n",
    "      \"action\": \"waitForNavigation\",\n",
    "      \"waitUntil\": \"load\",\n",
    "      \"timeout\": 31,\n",
    "      \"onError\": \"continue\"\n",
    "    },\n",
    "    {\n",
    "      \"action\": \"waitForSelector\",\n",
    "      \"selector\": {\n",
    "        \"type\": \"xpath\",\n",
    "        \"value\": \"//a[contains(text(), \\\"Sign\\\")]\"\n",
    "      },\n",
    "      \"timeout\": 5,\n",
    "      \"onError\": \"return\"\n",
    "    },\n",
    "    {\n",
    "      \"action\": \"click\",\n",
    "      \"selector\": {\n",
    "        \"type\": \"xpath\",\n",
    "        \"value\": \"//a[contains(text(), \\\"Sign\\\")]\"\n",
    "      },\n",
    "      \"onError\": \"return\"\n",
    "    },\n",
    "    {\n",
    "      \"action\": \"waitForSelector\",\n",
    "      \"selector\": {\n",
    "        \"type\": \"xpath\",\n",
    "        \"value\": \"//*[@id=\\\"emailOrUsername\\\"]\"\n",
    "      },\n",
    "      \"timeout\": 5,\n",
    "      \"onError\": \"return\"\n",
    "    },\n",
    "    {\n",
    "      \"action\": \"type\",\n",
    "      \"selector\": {\n",
    "        \"type\": \"xpath\",\n",
    "        \"value\": \"//*[@id=\\\"emailOrUsername\\\"]\"\n",
    "      },\n",
    "      \"delay\": 0.15,\n",
    "      \"onError\": \"return\",\n",
    "      \"text\": WSJ_EMAIL\n",
    "    },\n",
    "    {\n",
    "      \"action\": \"keyPress\",\n",
    "      \"onError\": \"return\",\n",
    "      \"key\": \"Enter\"\n",
    "    },\n",
    "    {\n",
    "      \"action\": \"waitForSelector\",\n",
    "      \"selector\": {\n",
    "        \"type\": \"xpath\",\n",
    "        \"value\": \"//input[@type=\\\"password\\\"]\"\n",
    "      },\n",
    "      \"timeout\": 5,\n",
    "      \"onError\": \"return\"\n",
    "    },\n",
    "    {\n",
    "      \"action\": \"type\",\n",
    "      \"selector\": {\n",
    "        \"type\": \"xpath\",\n",
    "        \"value\": \"//input[@type=\\\"password\\\"]\"\n",
    "      },\n",
    "      \"delay\": 0.15,\n",
    "      \"onError\": \"return\",\n",
    "      \"text\": WSJ_PASS\n",
    "    },\n",
    "    {\n",
    "      \"action\": \"keyPress\",\n",
    "      \"onError\": \"return\",\n",
    "      \"key\": \"Enter\"\n",
    "    },\n",
    "    {\n",
    "      \"action\": \"waitForSelector\",\n",
    "      \"selector\": {\n",
    "        \"type\": \"xpath\",\n",
    "        \"value\": \"//*[@id=\\\"root\\\"]/section/div/div[2]/button[2]\"\n",
    "      },\n",
    "      \"timeout\": 5,\n",
    "      \"onError\": \"return\"\n",
    "    },\n",
    "    {\n",
    "      \"action\": \"click\",\n",
    "      \"selector\": {\n",
    "        \"type\": \"xpath\",\n",
    "        \"value\": \"//*[@id=\\\"root\\\"]/section/div/div[2]/button[2]\"\n",
    "      },\n",
    "      \"delay\": 0.5,\n",
    "      \"button\": \"left\",\n",
    "      \"onError\": \"return\"\n",
    "    },\n",
    "    {\n",
    "      \"action\": \"waitForTimeout\",\n",
    "      \"timeout\": 1,\n",
    "      \"onError\": \"continue\"\n",
    "    },\n",
    "    {\n",
    "      \"action\": \"waitForSelector\",\n",
    "      \"selector\": {\n",
    "        \"type\": \"xpath\",\n",
    "        \"value\": \"//*[@id=\\\"latest-stories\\\"]/article[1]/div[2]/div[2]/h2/a\"\n",
    "      },\n",
    "      \"timeout\": 5,\n",
    "      \"onError\": \"continue\"\n",
    "    }\n",
    "  ],\n",
    "  \"javascript\": True,\n",
    "}\n",
    ")   \n",
    "article_body = api_response.json()"
   ]
  },
  {
   "cell_type": "code",
   "execution_count": 58,
   "metadata": {},
   "outputs": [
    {
     "data": {
      "text/plain": [
       "[{'action': 'waitForNavigation', 'elapsedTime': 18.768, 'status': 'success'},\n",
       " {'action': 'waitForSelector', 'elapsedTime': 0.018, 'status': 'success'},\n",
       " {'action': 'click', 'elapsedTime': 3.167, 'status': 'success'},\n",
       " {'action': 'waitForSelector', 'elapsedTime': 1.067, 'status': 'success'},\n",
       " {'action': 'type', 'elapsedTime': 2.709, 'status': 'success'},\n",
       " {'action': 'keyPress', 'elapsedTime': 0.013, 'status': 'success'},\n",
       " {'action': 'waitForSelector', 'elapsedTime': 0.107, 'status': 'success'},\n",
       " {'action': 'type', 'elapsedTime': 2.318, 'status': 'success'},\n",
       " {'action': 'keyPress', 'elapsedTime': 0.01, 'status': 'success'},\n",
       " {'action': 'waitForSelector', 'elapsedTime': 0.74, 'status': 'success'},\n",
       " {'action': 'click', 'elapsedTime': 2.954, 'status': 'success'},\n",
       " {'action': 'waitForTimeout', 'elapsedTime': 1, 'status': 'success'},\n",
       " {'action': 'waitForSelector',\n",
       "  'elapsedTime': 5.001,\n",
       "  'status': 'continued',\n",
       "  'error': 'Waiting for selector `.//*[@id=\"latest-stories\"]/article[1]/div[2]/div[2]/h2/a` failed: Waiting failed: 5000ms exceeded'}]"
      ]
     },
     "execution_count": 58,
     "metadata": {},
     "output_type": "execute_result"
    }
   ],
   "source": [
    "article_body[\"actions\"]"
   ]
  },
  {
   "cell_type": "code",
   "execution_count": 60,
   "metadata": {},
   "outputs": [],
   "source": [
    "from bs4 import BeautifulSoup\n",
    "\n",
    "soup = BeautifulSoup(article_body[\"browserHtml\"], \"html.parser\")"
   ]
  },
  {
   "cell_type": "code",
   "execution_count": 4,
   "metadata": {},
   "outputs": [],
   "source": [
    "articles = soup.find_all(\"h2\")\n",
    "\n",
    "links = []"
   ]
  },
  {
   "cell_type": "code",
   "execution_count": 5,
   "metadata": {},
   "outputs": [],
   "source": [
    "for a in articles:\n",
    "\n",
    "    if a.find(\"a\") and a:\n",
    "\n",
    "        links.append(a.find(\"a\").attrs[\"href\"])"
   ]
  },
  {
   "cell_type": "code",
   "execution_count": 61,
   "metadata": {},
   "outputs": [
    {
     "ename": "NameError",
     "evalue": "name 'links' is not defined",
     "output_type": "error",
     "traceback": [
      "\u001b[1;31m---------------------------------------------------------------------------\u001b[0m",
      "\u001b[1;31mNameError\u001b[0m                                 Traceback (most recent call last)",
      "Cell \u001b[1;32mIn[61], line 1\u001b[0m\n\u001b[1;32m----> 1\u001b[0m \u001b[43mlinks\u001b[49m\n",
      "\u001b[1;31mNameError\u001b[0m: name 'links' is not defined"
     ]
    }
   ],
   "source": [
    "links"
   ]
  }
 ],
 "metadata": {
  "interpreter": {
   "hash": "3a4565eb6215a326995d9cfd00f1782ebb9ab334d122fb684360bfee2e0fdc62"
  },
  "kernelspec": {
   "display_name": "Python 3.9.5 64-bit",
   "language": "python",
   "name": "python3"
  },
  "language_info": {
   "codemirror_mode": {
    "name": "ipython",
    "version": 3
   },
   "file_extension": ".py",
   "mimetype": "text/x-python",
   "name": "python",
   "nbconvert_exporter": "python",
   "pygments_lexer": "ipython3",
   "version": "3.9.5"
  },
  "orig_nbformat": 4
 },
 "nbformat": 4,
 "nbformat_minor": 2
}
