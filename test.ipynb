{
 "cells": [
  {
   "cell_type": "code",
   "execution_count": 1,
   "metadata": {},
   "outputs": [],
   "source": [
    "import requests"
   ]
  },
  {
   "cell_type": "code",
   "execution_count": 2,
   "metadata": {},
   "outputs": [],
   "source": [
    "r = requests.get(\"https://www.bloomberg.com/commodities\")"
   ]
  },
  {
   "cell_type": "code",
   "execution_count": 5,
   "metadata": {},
   "outputs": [],
   "source": [
    "with open(\"test.html\", \"x\") as f:\n",
    "\n",
    "    f.write(r.text)"
   ]
  },
  {
   "cell_type": "code",
   "execution_count": 30,
   "metadata": {},
   "outputs": [],
   "source": [
    "from dotenv import load_dotenv\n",
    "import os\n",
    "import requests\n",
    "from base64 import b64decode\n",
    "\n",
    "\n",
    "load_dotenv()\n",
    "\n",
    "ZYTE_KEY = os.getenv('ZYTE_KEY')\n",
    "WSJ_EMAIL = os.getenv('WSJ_EMAIL')\n",
    "WSJ_PASS = os.getenv('WSJ_PASS')\n",
    "\n",
    "\n",
    "api_response = requests.post(\n",
    "    \"https://api.zyte.com/v1/extract\",\n",
    "    auth = (ZYTE_KEY, \"\"),\n",
    "    json = {\n",
    "        \"url\": \"https://www.wsj.com/news/markets/oil-gold-commodities-futures?mod=md_cmd_news_all\",\n",
    "        \"browserHtml\": True,\n",
    "        \"actions\":[{\n",
    "            \"action\": 'waitForSelector',\n",
    "            \"selector\": {\"type\":\"xpath\",\n",
    "                        \"value\":'//a[contains(text(), \"Sign\")]'}\n",
    "            },\n",
    "            {\n",
    "            \"action\": 'click',\n",
    "            \"selector\": {\"type\":\"xpath\",\n",
    "                        \"value\":'//a[contains(text(), \"Sign\")]'}\n",
    "            },\n",
    "            {\n",
    "            \"action\": 'waitForSelector',\n",
    "            \"selector\": {\"type\":\"xpath\",\n",
    "                        \"value\":'//input[@id=\"emailOrUsername\"]'},\n",
    "            \"timeout\": 15\n",
    "            },\n",
    "            {\n",
    "            \"action\": 'type',\n",
    "            \"selector\": {\"type\":\"xpath\",\n",
    "                        \"value\":'//input[@id=\"emailOrUsername\"]'},\n",
    "            \"text\":WSJ_EMAIL\n",
    "            },\n",
    "            {\n",
    "            \"action\": 'click',\n",
    "            \"selector\": {\"type\":\"xpath\",\n",
    "                        \"value\":'//button[text()=\"Continue\"]'}\n",
    "            },\n",
    "            {\n",
    "            \"action\": 'waitForSelector',\n",
    "            \"selector\": {\"type\":\"xpath\",\n",
    "                        \"value\":'//input[@type=\"password\"]'}\n",
    "            },\n",
    "            {\n",
    "            \"action\": 'type',\n",
    "            \"selector\": {\"type\":\"xpath\",\n",
    "                        \"value\":'//input[@type=\"password\"]'},\n",
    "            \"text\":WSJ_PASS\n",
    "            },\n",
    "            {\n",
    "            \"action\": 'click',\n",
    "            \"selector\": {\"type\":\"xpath\",\n",
    "                        \"value\":'//button[contains(text(), \"Sign\")]'}\n",
    "            },\n",
    "            {\n",
    "            \"action\": 'waitForSelector',\n",
    "            \"selector\": {\"type\":\"xpath\",\n",
    "                        \"value\":'//button[contains(text(), \"Continue\")]'}\n",
    "            },\n",
    "            {\n",
    "            \"action\": 'click',\n",
    "            \"selector\": {\"type\":\"xpath\",\n",
    "                        \"value\":'//button[contains(text(), \"Continue\")]'}\n",
    "            },\n",
    "        ],\n",
    "        \"articleNavigation\":True\n",
    "    },\n",
    ")   \n",
    "http_response_body = api_response.json()"
   ]
  },
  {
   "cell_type": "code",
   "execution_count": 31,
   "metadata": {},
   "outputs": [
    {
     "data": {
      "text/plain": [
       "{'url': 'https://sso.accounts.dowjones.com/login-page?client_id=5hssEAdMy0mJTICnJNvC9TXEw3Va7jfO&redirect_uri=https%3A%2F%2Fwww.wsj.com%2Fclient%2Fauth&response_type=code&scope=openid%20idp_id%20roles%20tags%20email%20given_name%20family_name%20uuid%20djid%20djUsername%20djStatus%20trackid%20prts%20updated_at%20created_at%20offline_access&ui_locales=en-us-x-wsj-223-2&nonce=ad0f1f2b-48f7-49b4-a905-54b0fd4efc10&state=1WmENeiixO5xRmk_.XGyvYLv8U9O2zD9H3ybDMnxaFcCQAocAVzd9aN70IOB1qiPoYuFp2SGO1xKyBcUBWxlk1HqN_gM78_ZnEqNiSEa1kMA5MwcuTl8Fv_LEpB7JGi3EecKfn9uIPqtyvwSq&resource=https%253A%252F%252Fwww.wsj.com%252Fnews%252Fmarkets%252Foil-gold-commodities-futures%253Fmod%253Dmd_cmd_news_all&protocol=oauth2&client=5hssEAdMy0mJTICnJNvC9TXEw3Va7jfO',\n",
       " 'statusCode': 200,\n",
       " 'browserHtml': '<!DOCTYPE html><html lang=\"en\"><head>\\n    <title>Log in · Dow Jones</title>\\n    <meta charset=\"UTF-8\">\\n    <meta name=\"theme-color\" content=\"white\">\\n    <meta name=\"viewport\" content=\"width=device-width,initial-scale=1\">\\n    <meta name=\"description\" content=\"Dow Jones One Identity Login page\">\\n    <link rel=\"apple-touch-icon\" sizes=\"180x180\" href=\"/one_identity_login_pages/login/0905e7365768f8c947bfb0c526fb8b9e/images/apple-touch-icon.png\">\\n    <link rel=\"icon\" type=\"image/png\" sizes=\"32x32\" href=\"/one_identity_login_pages/login/0905e7365768f8c947bfb0c526fb8b9e/images/favicon-32x32.png\">\\n    <link rel=\"icon\" type=\"image/png\" sizes=\"16x16\" href=\"/one_identity_login_pages/login/0905e7365768f8c947bfb0c526fb8b9e/images/favicon-16x16.png\">\\n    <link rel=\"icon\" type=\"image/png\" sizes=\"192x192\" href=\"/one_identity_login_pages/login/0905e7365768f8c947bfb0c526fb8b9e/images/android-chrome-192x192.png\">\\n    <link rel=\"icon\" type=\"image/png\" sizes=\"512x512\" href=\"/one_identity_login_pages/login/0905e7365768f8c947bfb0c526fb8b9e/images/android-chrome-512x512.png\">\\n    <link rel=\"prefetch\" href=\"https://cdn.optimizely.com/js/14856860742.js\">\\n    <link rel=\"preconnect\" href=\"//cdn.optimizely.com\">\\n    <link rel=\"preconnect\" href=\"//logx.optimizely.com\">\\n    <script type=\"module\" crossorigin=\"\" src=\"/one_identity_login_pages/login/0905e7365768f8c947bfb0c526fb8b9e/js/index.js\"></script>\\n    <link rel=\"modulepreload\" crossorigin=\"\" href=\"/one_identity_login_pages/login/0905e7365768f8c947bfb0c526fb8b9e/js/vendor.js\">\\n    <link rel=\"modulepreload\" crossorigin=\"\" href=\"/one_identity_login_pages/login/0905e7365768f8c947bfb0c526fb8b9e/js/router.js\">\\n    <link rel=\"modulepreload\" crossorigin=\"\" href=\"/one_identity_login_pages/login/0905e7365768f8c947bfb0c526fb8b9e/js/auth.js\">\\n    <link rel=\"stylesheet\" crossorigin=\"\" href=\"/one_identity_login_pages/login/0905e7365768f8c947bfb0c526fb8b9e/assets/styles.css\">\\n  </head>\\n  <body>\\n    <div id=\"root\" class=\"root-container\"></div>\\n    <script>\\n      const AUTH_CONFIG = \\'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\\'\\n      const ENV_CONFIG = \\'production\\'\\n\\n      window.sessionStorage.setItem(\\'auth-config\\', AUTH_CONFIG)\\n      window.sessionStorage.setItem(\\'env-config\\', ENV_CONFIG)\\n    </script>\\n    <script src=\"https://cdn.optimizely.com/js/14856860742.js\" crossorigin=\"anonymous\"></script>\\n    <script type=\"text/javascript\" src=\"https://dcdd29eaa743c493e732-7dc0216bc6cc2f4ed239035dfc17235b.ssl.cf3.rackcdn.com/tags/wsj/hokbottom.js\"></script>\\n  \\n\\n</body></html>',\n",
       " 'articleNavigation': {'url': 'https://sso.accounts.dowjones.com/login-page?client_id=5hssEAdMy0mJTICnJNvC9TXEw3Va7jfO&redirect_uri=https%3A%2F%2Fwww.wsj.com%2Fclient%2Fauth&response_type=code&scope=openid%20idp_id%20roles%20tags%20email%20given_name%20family_name%20uuid%20djid%20djUsername%20djStatus%20trackid%20prts%20updated_at%20created_at%20offline_access&ui_locales=en-us-x-wsj-223-2&nonce=ad0f1f2b-48f7-49b4-a905-54b0fd4efc10&state=1WmENeiixO5xRmk_.XGyvYLv8U9O2zD9H3ybDMnxaFcCQAocAVzd9aN70IOB1qiPoYuFp2SGO1xKyBcUBWxlk1HqN_gM78_ZnEqNiSEa1kMA5MwcuTl8Fv_LEpB7JGi3EecKfn9uIPqtyvwSq&resource=https%253A%252F%252Fwww.wsj.com%252Fnews%252Fmarkets%252Foil-gold-commodities-futures%253Fmod%253Dmd_cmd_news_all&protocol=oauth2&client=5hssEAdMy0mJTICnJNvC9TXEw3Va7jfO',\n",
       "  'metadata': {'dateDownloaded': '2024-09-26T14:35:21Z'}},\n",
       " 'actions': [{'action': 'waitForSelector',\n",
       "   'elapsedTime': 0.025,\n",
       "   'status': 'success'},\n",
       "  {'action': 'click', 'elapsedTime': 1.953, 'status': 'success'},\n",
       "  {'action': 'waitForSelector',\n",
       "   'elapsedTime': 0.544,\n",
       "   'status': 'returned',\n",
       "   'error': 'Waiting for selector `.//input[@id=\"emailOrUsername\"]` failed: Protocol error (Runtime.callFunctionOn): Argument should belong to the same JavaScript world as target object'},\n",
       "  {'action': 'type',\n",
       "   'elapsedTime': 0,\n",
       "   'status': 'notExecuted',\n",
       "   'error': 'previous action ended with error'},\n",
       "  {'action': 'click',\n",
       "   'elapsedTime': 0,\n",
       "   'status': 'notExecuted',\n",
       "   'error': 'previous action ended with error'},\n",
       "  {'action': 'waitForSelector',\n",
       "   'elapsedTime': 0,\n",
       "   'status': 'notExecuted',\n",
       "   'error': 'previous action ended with error'},\n",
       "  {'action': 'type',\n",
       "   'elapsedTime': 0,\n",
       "   'status': 'notExecuted',\n",
       "   'error': 'previous action ended with error'},\n",
       "  {'action': 'click',\n",
       "   'elapsedTime': 0,\n",
       "   'status': 'notExecuted',\n",
       "   'error': 'previous action ended with error'},\n",
       "  {'action': 'waitForSelector',\n",
       "   'elapsedTime': 0,\n",
       "   'status': 'notExecuted',\n",
       "   'error': 'previous action ended with error'},\n",
       "  {'action': 'click',\n",
       "   'elapsedTime': 0,\n",
       "   'status': 'notExecuted',\n",
       "   'error': 'previous action ended with error'}]}"
      ]
     },
     "execution_count": 31,
     "metadata": {},
     "output_type": "execute_result"
    }
   ],
   "source": [
    "http_response_body"
   ]
  },
  {
   "cell_type": "code",
   "execution_count": 16,
   "metadata": {},
   "outputs": [],
   "source": [
    "from bs4 import BeautifulSoup\n",
    "\n",
    "soup = BeautifulSoup(http_response_body,\"html.parser\")"
   ]
  },
  {
   "cell_type": "code",
   "execution_count": 4,
   "metadata": {},
   "outputs": [],
   "source": [
    "articles = soup.find_all(\"h2\")\n",
    "\n",
    "links = []"
   ]
  },
  {
   "cell_type": "code",
   "execution_count": 5,
   "metadata": {},
   "outputs": [],
   "source": [
    "for a in articles:\n",
    "\n",
    "    if a.find(\"a\") and a:\n",
    "\n",
    "        links.append(a.find(\"a\").attrs[\"href\"])"
   ]
  },
  {
   "cell_type": "code",
   "execution_count": 6,
   "metadata": {},
   "outputs": [
    {
     "data": {
      "text/plain": [
       "['https://www.wsj.com/business/energy-oil/peak-oil-demand-isnt-on-the-horizon-opec-says-e643ac82',\n",
       " 'https://www.wsj.com/finance/commodities-futures/kazatomprom-shares-soar-as-uranium-excitement-spreads-to-asia-27cbd28c',\n",
       " 'https://www.wsj.com/business/energy-oil/why-washington-and-big-oil-are-investing-billions-in-ammonia-eef4d2eb',\n",
       " 'https://www.wsj.com/finance/commodities-futures/slide-in-iron-ore-prices-a-hiccup-for-miners-amid-copper-scramble-3f629b52',\n",
       " 'https://www.wsj.com/world/asia/china-harnesses-a-technology-that-vexed-the-west-unlocking-a-treasure-chest-5d984585',\n",
       " 'https://www.wsj.com/finance/commodities-futures/an-oil-giant-is-spending-100-million-to-preserve-u-s-forests-24b4f4b8',\n",
       " 'https://www.wsj.com/finance/commodities-futures/the-u-s-corn-crop-is-great-farmers-finances-not-so-much-f9bea8f0',\n",
       " 'https://www.wsj.com/finance/commodities-futures/a-natural-gas-glut-is-forcing-drillers-to-dial-backagain-ff2e56a1',\n",
       " 'https://www.wsj.com/finance/commodities-futures/slowing-us-china-economy-cheaper-gas-08355d5f',\n",
       " 'https://www.wsj.com/business/energy-oil/u-s-crude-oil-inventories-fall-for-sixth-straight-week-b97d2a87',\n",
       " 'https://www.wsj.com/finance/commodities-futures/u-s-crude-oil-inventories-fall-for-fifth-consecutive-week-40f415c9',\n",
       " 'https://www.wsj.com/business/energy-oil/iea-cuts-2025-oil-demand-forecast-lifts-supply-view-84a19fba',\n",
       " 'https://www.wsj.com/finance/commodities-futures/energy-electricity-natural-gas-traders-hedge-funds-de7ab2d1',\n",
       " 'https://www.wsj.com/finance/commodities-futures/lumber-prices-housing-market-31944c27',\n",
       " 'https://www.wsj.com/finance/commodities-futures/ac-electricity-bill-higher-summer-4b9a8edb',\n",
       " 'https://www.wsj.com/economy/central-banking/central-banks-expect-to-snap-up-more-gold-this-year-amid-dollar-pessimism-096ce58f',\n",
       " 'https://www.wsj.com/business/energy-oil/u-s-crude-oil-stocks-rise-by-3-7-million-barrels-in-unexpected-build-6cfc94cd',\n",
       " 'https://www.wsj.com/finance/commodities-futures/wild-weather-is-roiling-electricity-prices-this-startup-is-looking-to-help-61187cef',\n",
       " 'https://www.wsj.com/business/energy-oil/opec-keeps-robust-oil-demand-outlook-after-output-policy-move-d69bc9dc',\n",
       " 'https://www.wsj.com/science/environment/steel-production-startups-carbon-footprint-80a9e8ec']"
      ]
     },
     "execution_count": 6,
     "metadata": {},
     "output_type": "execute_result"
    }
   ],
   "source": [
    "links"
   ]
  },
  {
   "cell_type": "code",
   "execution_count": 7,
   "metadata": {},
   "outputs": [],
   "source": [
    "art_responses = []\n",
    "\n",
    "for art in links:\n",
    "\n",
    "    api_response = requests.post(\n",
    "    \"https://api.zyte.com/v1/extract\",\n",
    "    auth=(ZYTE_KEY, \"\"),\n",
    "    json={\n",
    "        \"url\": art,\n",
    "        \"browserHtml\": True,\n",
    "    },\n",
    "    )\n",
    "\n",
    "    http_response_body = api_response.json()\n",
    "\n",
    "    art_responses.append(http_response_body)\n",
    "\n",
    "    break"
   ]
  },
  {
   "cell_type": "code",
   "execution_count": 10,
   "metadata": {},
   "outputs": [
    {
     "ename": "KeyError",
     "evalue": "'article'",
     "output_type": "error",
     "traceback": [
      "\u001b[1;31m---------------------------------------------------------------------------\u001b[0m",
      "\u001b[1;31mKeyError\u001b[0m                                  Traceback (most recent call last)",
      "Cell \u001b[1;32mIn[10], line 1\u001b[0m\n\u001b[1;32m----> 1\u001b[0m \u001b[43mart_responses\u001b[49m\u001b[43m[\u001b[49m\u001b[38;5;241;43m0\u001b[39;49m\u001b[43m]\u001b[49m\u001b[43m[\u001b[49m\u001b[38;5;124;43m\"\u001b[39;49m\u001b[38;5;124;43marticle\u001b[39;49m\u001b[38;5;124;43m\"\u001b[39;49m\u001b[43m]\u001b[49m\n",
      "\u001b[1;31mKeyError\u001b[0m: 'article'"
     ]
    }
   ],
   "source": [
    "art_responses[0][\"article\"]"
   ]
  }
 ],
 "metadata": {
  "interpreter": {
   "hash": "3a4565eb6215a326995d9cfd00f1782ebb9ab334d122fb684360bfee2e0fdc62"
  },
  "kernelspec": {
   "display_name": "Python 3.9.5 64-bit",
   "language": "python",
   "name": "python3"
  },
  "language_info": {
   "codemirror_mode": {
    "name": "ipython",
    "version": 3
   },
   "file_extension": ".py",
   "mimetype": "text/x-python",
   "name": "python",
   "nbconvert_exporter": "python",
   "pygments_lexer": "ipython3",
   "version": "3.9.5"
  },
  "orig_nbformat": 4
 },
 "nbformat": 4,
 "nbformat_minor": 2
}
