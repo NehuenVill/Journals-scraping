{
 "cells": [
  {
   "cell_type": "code",
   "execution_count": 28,
   "metadata": {},
   "outputs": [
    {
     "name": "stdout",
     "output_type": "stream",
     "text": [
      "number: 1\n",
      "\n",
      "number: 2\n",
      "\n",
      "number: 3\n",
      "\n",
      "number: 4\n",
      "\n"
     ]
    }
   ],
   "source": [
    "from concurrent.futures import ThreadPoolExecutor\n",
    "\n",
    "def my_function(x):\n",
    "    print(f\"number: {x}\\n\")\n",
    "    return f\"Result for {x}\"\n",
    "\n",
    "with ThreadPoolExecutor() as executor:\n",
    "    results = executor.map(my_function, [1,2,3,4])\n",
    "\n",
    "results = list(results)"
   ]
  },
  {
   "cell_type": "code",
   "execution_count": 1,
   "metadata": {},
   "outputs": [],
   "source": [
    "import requests"
   ]
  },
  {
   "cell_type": "code",
   "execution_count": 2,
   "metadata": {},
   "outputs": [],
   "source": [
    "r = requests.get(\"https://www.bloomberg.com/commodities\")"
   ]
  },
  {
   "cell_type": "code",
   "execution_count": 5,
   "metadata": {},
   "outputs": [],
   "source": [
    "with open(\"test.html\", \"x\") as f:\n",
    "\n",
    "    f.write(r.text)"
   ]
  },
  {
   "cell_type": "code",
   "execution_count": 21,
   "metadata": {},
   "outputs": [],
   "source": [
    "from uuid import uuid4\n",
    "\n",
    "session_id = str(uuid4())"
   ]
  },
  {
   "cell_type": "code",
   "execution_count": 22,
   "metadata": {},
   "outputs": [
    {
     "data": {
      "text/plain": [
       "'95c3d8db-42ee-4b1a-b20b-5f9dd3a8abfa'"
      ]
     },
     "execution_count": 22,
     "metadata": {},
     "output_type": "execute_result"
    }
   ],
   "source": [
    "session_id"
   ]
  },
  {
   "cell_type": "code",
   "execution_count": 15,
   "metadata": {},
   "outputs": [],
   "source": [
    "from dotenv import load_dotenv\n",
    "import os\n",
    "import requests\n",
    "\n",
    "load_dotenv()\n",
    "\n",
    "ZYTE_KEY = os.getenv('ZYTE_KEY')\n",
    "\n",
    "api_response = requests.post(\n",
    "    \"https://api.zyte.com/v1/extract\",\n",
    "    auth = (ZYTE_KEY, \"\"),\n",
    "    json = {\n",
    "  \"url\": \"https://www.bloomberg.com/commodities\",\n",
    "  \"screenshot\": True,\n",
    "  \"browserHtml\": True,\n",
    "  \"actions\": [\n",
    "    {\n",
    "      \"action\": \"waitForNavigation\",\n",
    "      \"waitUntil\": \"load\",\n",
    "      \"timeout\": 31,\n",
    "      \"onError\": \"continue\"\n",
    "    },\n",
    "    {\n",
    "      \"action\": \"waitForSelector\",\n",
    "      \"selector\": {\n",
    "        \"type\": \"xpath\",\n",
    "        \"value\": '//*[@id=\"hub_story_list_2\"]/article[1]/div[1]/div[1]/a'\n",
    "      },\n",
    "      \"timeout\": 5,\n",
    "      \"onError\": \"continue\"\n",
    "    },\n",
    "    {\n",
    "      \"action\": \"waitForSelector\",\n",
    "      \"selector\": {\n",
    "        \"type\": \"xpath\",\n",
    "        \"value\": '//*[@id=\"hub_story_list_2\"]/article[1]/div[1]/div[1]/a'\n",
    "      },\n",
    "      \"timeout\": 5,\n",
    "      \"onError\": \"continue\"\n",
    "    },\n",
    "    {\n",
    "      \"action\": \"waitForTimeout\",\n",
    "      \"timeout\": 5,\n",
    "      \"onError\": \"continue\"\n",
    "    }\n",
    "    ],\n",
    "    \"screenshotOptions\":{\n",
    "      \"fullPage\" : True\n",
    "    }\n",
    "}\n",
    ")   \n",
    "http_response_body = api_response.json()"
   ]
  },
  {
   "cell_type": "code",
   "execution_count": null,
   "metadata": {},
   "outputs": [],
   "source": [
    "http_response_body"
   ]
  },
  {
   "cell_type": "code",
   "execution_count": 5,
   "metadata": {},
   "outputs": [],
   "source": [
    "from bs4 import BeautifulSoup\n",
    "\n",
    "soup = BeautifulSoup(http_response_body[\"browserHtml\"],\"html.parser\")"
   ]
  },
  {
   "cell_type": "code",
   "execution_count": null,
   "metadata": {},
   "outputs": [],
   "source": [
    "soup.find(\"div\", id=\"latest-stories\")"
   ]
  },
  {
   "cell_type": "code",
   "execution_count": 6,
   "metadata": {},
   "outputs": [],
   "source": [
    "all_articles = soup.find_all(\"a\")"
   ]
  },
  {
   "cell_type": "code",
   "execution_count": 14,
   "metadata": {},
   "outputs": [
    {
     "data": {
      "text/plain": [
       "[<a aria-label=\"Skip to content\" class=\"bb-that__skip-to-content\" href=\"#that-jump-content\" role=\"button\" tabindex=\"0\">Skip to content</a>,\n",
       " <a aria-controls=\"bb-that--container\" aria-expanded=\"false\" class=\"bb-that-header__link bb-that-header--sitemap-trigger\" data-description=\"Bloomberg the Company &amp; Its Products\" data-element=\"tophat-link\" data-label=\"bcom\" href=\"https://www.bloomberg.com/company/?utm_source=bloomberg-menu&amp;utm_medium=bcom\" role=\"button\"><span>Bloomberg the Company &amp; Its Products</span><span>The Company &amp; its Products</span></a>,\n",
       " <a class=\"bb-that-header__link\" data-description=\"Bloomberg Terminal Demo Request\" data-element=\"tophat-link\" data-label=\"bcom\" href=\"https://www.bloomberg.com/professional/contact-menu/?utm_source=bloomberg-menu&amp;utm_medium=bcom&amp;bbgsum=DG-WS-PROF-DEMO-bbgmenu\">Bloomberg Terminal Demo Request</a>,\n",
       " <a class=\"bb-that-header__link\" data-description=\"Bloomberg Anywhere Remote Login\" data-element=\"tophat-link\" data-label=\"bcom\" href=\"https://bba.bloomberg.net/?utm_source=bloomberg-menu&amp;utm_medium=bcom\"><span>Bloomberg Anywhere Remote Login</span><span>Bloomberg Anywhere Login</span></a>,\n",
       " <a class=\"bb-that-header__link\" data-description=\"Bloomberg Customer Support\" data-element=\"tophat-link\" data-label=\"bcom\" href=\"https://www.bloomberg.com/professional/support/?utm_source=bloomberg-menu&amp;utm_medium=bcom\"><span>Bloomberg Customer Support</span><span>Customer Support</span></a>,\n",
       " <a class=\"bb-that-category__link\" data-description=\"Bloomberg Anywhere Remote Login\" data-element=\"tophat-link\" data-label=\"bcom\" href=\"https://bba.bloomberg.net/?utm_source=bloomberg-menu&amp;utm_medium=bcom\" tabindex=\"0\">Bloomberg Anywhere Remote Login</a>,\n",
       " <a class=\"bb-that-category__link\" data-description=\"Software Updates\" data-element=\"tophat-link\" data-label=\"bcom\" href=\"https://www.bloomberg.com/professional/support/customer-support/software-updates/?utm_source=bloomberg-menu&amp;utm_medium=bcom\" tabindex=\"0\">Software Updates</a>,\n",
       " <a class=\"bb-that-category__link\" data-description=\"Manage Products and Account Information\" data-element=\"tophat-link\" data-label=\"bcom\" href=\"https://service.bloomberg.com/portal/sessions/new?utm_source=bloomberg-menu&amp;utm_medium=bcom\" tabindex=\"0\">Manage Products and Account Information</a>,\n",
       " <a class=\"bb-that-category__link\" data-description=\"About\" data-element=\"tophat-link\" data-label=\"bcom\" href=\"https://www.bloomberg.com/company/?utm_source=bloomberg-menu&amp;utm_medium=bcom\" tabindex=\"0\">About</a>,\n",
       " <a class=\"bb-that-category__link\" data-description=\"Careers\" data-element=\"tophat-link\" data-label=\"bcom\" href=\"https://www.bloomberg.com/company/what-we-do/?utm_source=bloomberg-menu&amp;utm_medium=bcom\" tabindex=\"0\">Careers</a>,\n",
       " <a class=\"bb-that-category__link\" data-description=\"Diversity and Inclusion\" data-element=\"tophat-link\" data-label=\"bcom\" href=\"https://www.bloomberg.com/company/diversity-inclusion/?utm_source=bloomberg-menu&amp;utm_medium=bcom\" tabindex=\"0\">Diversity and Inclusion</a>,\n",
       " <a class=\"bb-that-category__link\" data-description=\"Tech At Bloomberg\" data-element=\"tophat-link\" data-label=\"bcom\" href=\"https://www.bloomberg.com/company/values/tech-at-bloomberg/?utm_source=bloomberg-menu&amp;utm_medium=bcom\" tabindex=\"0\">Tech At Bloomberg</a>,\n",
       " <a class=\"bb-that-category__link\" data-description=\"Philanthropy\" data-element=\"tophat-link\" data-label=\"bcom\" href=\"https://www.bloomberg.com/company/philanthropy/?utm_source=bloomberg-menu&amp;utm_medium=bcom\" tabindex=\"0\">Philanthropy</a>,\n",
       " <a class=\"bb-that-category__link\" data-description=\"Sustainability\" data-element=\"tophat-link\" data-label=\"bcom\" href=\"https://www.bloomberg.com/company/sustainability/?utm_source=bloomberg-menu&amp;utm_medium=bcom\" tabindex=\"0\">Sustainability</a>,\n",
       " <a class=\"bb-that-category__link\" data-description=\"Bloomberg London\" data-element=\"tophat-link\" data-label=\"bcom\" href=\"https://www.bloomberg.com/london/?utm_source=bloomberg-menu&amp;utm_medium=bcom\" tabindex=\"0\">Bloomberg London</a>,\n",
       " <a class=\"bb-that-category__link\" data-description=\"Bloomberg Beta\" data-element=\"tophat-link\" data-label=\"bcom\" href=\"https://www.bloomberg.com/company/values/tech-at-bloomberg/bloomberg-beta/?utm_source=bloomberg-menu&amp;utm_medium=bcom\" tabindex=\"0\">Bloomberg Beta</a>,\n",
       " <a class=\"bb-that-category__link\" data-description=\"Gender-Equality Index\" data-element=\"tophat-link\" data-label=\"bcom\" href=\"https://www.bloomberg.com/gei?utm_source=bloomberg-menu&amp;utm_medium=bcom\" tabindex=\"0\">Gender-Equality Index</a>,\n",
       " <a class=\"bb-that-category__link\" data-description=\"Press Announcements\" data-element=\"tophat-link\" data-label=\"bcom\" href=\"https://www.bloomberg.com/company/announcements/?utm_source=bloomberg-menu&amp;utm_medium=bcom\" tabindex=\"0\">Press Announcements</a>,\n",
       " <a class=\"bb-that-category__link\" data-description=\"Press Contacts\" data-element=\"tophat-link\" data-label=\"bcom\" href=\"https://www.bloomberg.com/company/press-contacts/?utm_source=bloomberg-menu&amp;utm_medium=bcom\" tabindex=\"0\">Press Contacts</a>,\n",
       " <a class=\"bb-that-category__social-link bb-that--icon-facebook\" data-description=\"Facebook\" data-element=\"tophat-link\" data-label=\"bcom\" href=\"https://www.facebook.com/Bloomberglp\" rel=\"noopener\" tabindex=\"0\" target=\"_blank\">Facebook</a>,\n",
       " <a class=\"bb-that-category__social-link bb-that--icon-instagram\" data-description=\"Instagram\" data-element=\"tophat-link\" data-label=\"bcom\" href=\"https://www.instagram.com/bloomberg/\" rel=\"noopener\" tabindex=\"0\" target=\"_blank\">Instagram</a>,\n",
       " <a class=\"bb-that-category__social-link bb-that--icon-linkedin\" data-description=\"LinkedIn\" data-element=\"tophat-link\" data-label=\"bcom\" href=\"https://www.linkedin.com/company/2494\" rel=\"noopener\" tabindex=\"0\" target=\"_blank\">LinkedIn</a>,\n",
       " <a class=\"bb-that-category__social-link bb-that--icon-twitter\" data-description=\"Twitter\" data-element=\"tophat-link\" data-label=\"bcom\" href=\"https://twitter.com/bloomberg\" rel=\"noopener\" tabindex=\"0\" target=\"_blank\">Twitter</a>,\n",
       " <a class=\"bb-that-category__social-link bb-that--icon-youtube\" data-description=\"YouTube\" data-element=\"tophat-link\" data-label=\"bcom\" href=\"https://www.youtube.com/@bloomberglp\" rel=\"noopener\" tabindex=\"0\" target=\"_blank\">YouTube</a>,\n",
       " <a class=\"bb-that-category__link\" data-description=\"Bloomberg Terminal\" data-element=\"tophat-link\" data-label=\"bcom\" href=\"https://www.bloomberg.com/professional/products/bloomberg-terminal/?utm_source=bloomberg-menu&amp;utm_medium=bcom\" tabindex=\"0\">Bloomberg Terminal</a>,\n",
       " <a class=\"bb-that-category__link\" data-description=\"Data\" data-element=\"tophat-link\" data-label=\"bcom\" href=\"https://www.bloomberg.com/professional/products/data/?utm_source=bloomberg-menu&amp;utm_medium=bcom\" tabindex=\"0\">Data</a>,\n",
       " <a class=\"bb-that-category__link\" data-description=\"Trading\" data-element=\"tophat-link\" data-label=\"bcom\" href=\"https://www.bloomberg.com/professional/products/trading/?utm_source=bloomberg-menu&amp;utm_medium=bcom\" tabindex=\"0\">Trading</a>,\n",
       " <a class=\"bb-that-category__link\" data-description=\"Risk\" data-element=\"tophat-link\" data-label=\"bcom\" href=\"https://www.bloomberg.com/professional/products/risk/?utm_source=bloomberg-menu&amp;utm_medium=bcom\" tabindex=\"0\">Risk</a>,\n",
       " <a class=\"bb-that-category__link\" data-description=\"Compliance\" data-element=\"tophat-link\" data-label=\"bcom\" href=\"https://www.bloomberg.com/professional/products/compliance/?utm_source=bloomberg-menu&amp;utm_medium=bcom\" tabindex=\"0\">Compliance</a>,\n",
       " <a class=\"bb-that-category__link\" data-description=\"Indices\" data-element=\"tophat-link\" data-label=\"bcom\" href=\"https://www.bloomberg.com/professional/products/indices/?utm_source=bloomberg-menu&amp;utm_medium=bcom\" tabindex=\"0\">Indices</a>,\n",
       " <a class=\"bb-that-category__link\" data-description=\"Bloomberg Law\" data-element=\"tophat-link\" data-label=\"bcom\" href=\"https://pro.bloomberglaw.com/?utm_source=bloomberg-menu&amp;utm_medium=bcom\" tabindex=\"0\">Bloomberg Law</a>,\n",
       " <a class=\"bb-that-category__link\" data-description=\"Bloomberg Tax\" data-element=\"tophat-link\" data-label=\"bcom\" href=\"https://pro.bloombergtax.com/?utm_source=bloomberg-menu&amp;utm_medium=bcom\" tabindex=\"0\">Bloomberg Tax</a>,\n",
       " <a class=\"bb-that-category__link\" data-description=\"Bloomberg Government\" data-element=\"tophat-link\" data-label=\"bcom\" href=\"https://about.bgov.com/?utm_source=bloomberg-menu&amp;utm_medium=bcom\" tabindex=\"0\">Bloomberg Government</a>,\n",
       " <a class=\"bb-that-category__link\" data-description=\"BloombergNEF\" data-element=\"tophat-link\" data-label=\"bcom\" href=\"https://about.bnef.com/?utm_source=bloomberg-menu&amp;utm_medium=bcom\" tabindex=\"0\">BloombergNEF</a>,\n",
       " <a class=\"bb-that-category__link\" data-description=\"Bloomberg Markets\" data-element=\"tophat-link\" data-label=\"bcom\" href=\"https://www.bloomberg.com/markets/?utm_source=bloomberg-menu&amp;utm_medium=bcom\" tabindex=\"0\">Bloomberg Markets</a>,\n",
       " <a class=\"bb-that-category__link\" data-description=\"Bloomberg Technology\" data-element=\"tophat-link\" data-label=\"bcom\" href=\"https://www.bloomberg.com/technology/?utm_source=bloomberg-menu&amp;utm_medium=bcom\" tabindex=\"0\">Bloomberg Technology</a>,\n",
       " <a class=\"bb-that-category__link\" data-description=\"Bloomberg Pursuits\" data-element=\"tophat-link\" data-label=\"bcom\" href=\"https://www.bloomberg.com/pursuits/?utm_source=bloomberg-menu&amp;utm_medium=bcom\" tabindex=\"0\">Bloomberg Pursuits</a>,\n",
       " <a class=\"bb-that-category__link\" data-description=\"Bloomberg Politics\" data-element=\"tophat-link\" data-label=\"bcom\" href=\"https://www.bloomberg.com/politics/?utm_source=bloomberg-menu&amp;utm_medium=bcom\" tabindex=\"0\">Bloomberg Politics</a>,\n",
       " <a class=\"bb-that-category__link\" data-description=\"Bloomberg Opinion\" data-element=\"tophat-link\" data-label=\"bcom\" href=\"https://www.bloomberg.com/opinion/?utm_source=bloomberg-menu&amp;utm_medium=bcom\" tabindex=\"0\">Bloomberg Opinion</a>,\n",
       " <a class=\"bb-that-category__link\" data-description=\"Bloomberg Businessweek\" data-element=\"tophat-link\" data-label=\"bcom\" href=\"https://www.bloomberg.com/businessweek/?utm_source=bloomberg-menu&amp;utm_medium=bcom\" tabindex=\"0\">Bloomberg Businessweek</a>,\n",
       " <a class=\"bb-that-category__link\" data-description=\"Bloomberg Live Conferences\" data-element=\"tophat-link\" data-label=\"bcom\" href=\"https://www.bloomberglive.com/?utm_source=bloomberg-menu&amp;utm_medium=bcom\" tabindex=\"0\">Bloomberg Live Conferences</a>,\n",
       " <a class=\"bb-that-category__link\" data-description=\"Bloomberg Radio\" data-element=\"tophat-link\" data-label=\"bcom\" href=\"https://www.bloombergradio.com/?utm_source=bloomberg-menu&amp;utm_medium=bcom\" tabindex=\"0\">Bloomberg Radio</a>,\n",
       " <a class=\"bb-that-category__link\" data-description=\"Bloomberg Television\" data-element=\"tophat-link\" data-label=\"bcom\" href=\"https://www.bloomberg.com/live?utm_source=bloomberg-menu&amp;utm_medium=bcom\" tabindex=\"0\">Bloomberg Television</a>,\n",
       " <a class=\"bb-that-category__link\" data-description=\"News Bureaus\" data-element=\"tophat-link\" data-label=\"bcom\" href=\"https://www.bloomberg.com/company/news-bureaus/?utm_source=bloomberg-menu&amp;utm_medium=bcom\" tabindex=\"0\">News Bureaus</a>,\n",
       " <a class=\"bb-that-category__link\" data-description=\"Bloomberg Media Distribution\" data-element=\"tophat-link\" data-label=\"bcom\" href=\"https://www.bloomberg.com/distribution?utm_source=bloomberg-menu&amp;utm_medium=bcom\" tabindex=\"0\">Bloomberg Media Distribution</a>,\n",
       " <a class=\"bb-that-category__link\" data-description=\"Advertising\" data-element=\"tophat-link\" data-label=\"bcom\" href=\"https://www.bloombergmedia.com/?utm_source=bloomberg-menu&amp;utm_medium=bcom\" tabindex=\"0\">Advertising</a>,\n",
       " <a class=\"bb-that-category__link\" data-description=\"About\" data-element=\"tophat-link\" data-label=\"bcom\" href=\"https://www.bloomberg.com/company/?utm_source=bloomberg-menu&amp;utm_medium=bcom\" tabindex=\"0\">About</a>,\n",
       " <a class=\"bb-that-category__link\" data-description=\"Careers\" data-element=\"tophat-link\" data-label=\"bcom\" href=\"https://www.bloomberg.com/company/what-we-do/?utm_source=bloomberg-menu&amp;utm_medium=bcom\" tabindex=\"0\">Careers</a>,\n",
       " <a class=\"bb-that-category__link\" data-description=\"Diversity and Inclusion\" data-element=\"tophat-link\" data-label=\"bcom\" href=\"https://www.bloomberg.com/company/diversity-inclusion/?utm_source=bloomberg-menu&amp;utm_medium=bcom\" tabindex=\"0\">Diversity and Inclusion</a>,\n",
       " <a class=\"bb-that-category__link\" data-description=\"Tech At Bloomberg\" data-element=\"tophat-link\" data-label=\"bcom\" href=\"https://www.bloomberg.com/company/values/tech-at-bloomberg/?utm_source=bloomberg-menu&amp;utm_medium=bcom\" tabindex=\"0\">Tech At Bloomberg</a>,\n",
       " <a class=\"bb-that-category__link\" data-description=\"Philanthropy\" data-element=\"tophat-link\" data-label=\"bcom\" href=\"https://www.bloomberg.com/company/philanthropy/?utm_source=bloomberg-menu&amp;utm_medium=bcom\" tabindex=\"0\">Philanthropy</a>,\n",
       " <a class=\"bb-that-category__link\" data-description=\"Sustainability\" data-element=\"tophat-link\" data-label=\"bcom\" href=\"https://www.bloomberg.com/company/sustainability/?utm_source=bloomberg-menu&amp;utm_medium=bcom\" tabindex=\"0\">Sustainability</a>,\n",
       " <a class=\"bb-that-category__link\" data-description=\"Bloomberg London\" data-element=\"tophat-link\" data-label=\"bcom\" href=\"https://www.bloomberg.com/london/?utm_source=bloomberg-menu&amp;utm_medium=bcom\" tabindex=\"0\">Bloomberg London</a>,\n",
       " <a class=\"bb-that-category__link\" data-description=\"Bloomberg Beta\" data-element=\"tophat-link\" data-label=\"bcom\" href=\"https://www.bloomberg.com/company/values/tech-at-bloomberg/bloomberg-beta/?utm_source=bloomberg-menu&amp;utm_medium=bcom\" tabindex=\"0\">Bloomberg Beta</a>,\n",
       " <a class=\"bb-that-category__link\" data-description=\"Gender-Equality Index\" data-element=\"tophat-link\" data-label=\"bcom\" href=\"https://www.bloomberg.com/gei?utm_source=bloomberg-menu&amp;utm_medium=bcom\" tabindex=\"0\">Gender-Equality Index</a>,\n",
       " <a class=\"bb-that-category__link\" data-description=\"Press Announcements\" data-element=\"tophat-link\" data-label=\"bcom\" href=\"https://www.bloomberg.com/company/announcements/?utm_source=bloomberg-menu&amp;utm_medium=bcom\" tabindex=\"0\">Press Announcements</a>,\n",
       " <a class=\"bb-that-category__link\" data-description=\"Press Contacts\" data-element=\"tophat-link\" data-label=\"bcom\" href=\"https://www.bloomberg.com/company/press-contacts/?utm_source=bloomberg-menu&amp;utm_medium=bcom\" tabindex=\"0\">Press Contacts</a>,\n",
       " <a class=\"bb-that-category__social-link bb-that--icon-facebook\" data-description=\"Facebook\" data-element=\"tophat-link\" data-label=\"bcom\" href=\"https://www.facebook.com/Bloomberglp\" rel=\"noopener\" tabindex=\"0\" target=\"_blank\">Facebook</a>,\n",
       " <a class=\"bb-that-category__social-link bb-that--icon-instagram\" data-description=\"Instagram\" data-element=\"tophat-link\" data-label=\"bcom\" href=\"https://www.instagram.com/bloomberg/\" rel=\"noopener\" tabindex=\"0\" target=\"_blank\">Instagram</a>,\n",
       " <a class=\"bb-that-category__social-link bb-that--icon-linkedin\" data-description=\"LinkedIn\" data-element=\"tophat-link\" data-label=\"bcom\" href=\"https://www.linkedin.com/company/2494\" rel=\"noopener\" tabindex=\"0\" target=\"_blank\">LinkedIn</a>,\n",
       " <a class=\"bb-that-category__social-link bb-that--icon-twitter\" data-description=\"Twitter\" data-element=\"tophat-link\" data-label=\"bcom\" href=\"https://twitter.com/bloomberg\" rel=\"noopener\" tabindex=\"0\" target=\"_blank\">Twitter</a>,\n",
       " <a class=\"bb-that-category__social-link bb-that--icon-youtube\" data-description=\"YouTube\" data-element=\"tophat-link\" data-label=\"bcom\" href=\"https://www.youtube.com/@bloomberglp\" rel=\"noopener\" tabindex=\"0\" target=\"_blank\">YouTube</a>,\n",
       " <a class=\"bb-that-category__link\" data-description=\"Bloomberg Terminal\" data-element=\"tophat-link\" data-label=\"bcom\" href=\"https://www.bloomberg.com/professional/products/bloomberg-terminal/?utm_source=bloomberg-menu&amp;utm_medium=bcom\" tabindex=\"0\">Bloomberg Terminal</a>,\n",
       " <a class=\"bb-that-category__link\" data-description=\"Data\" data-element=\"tophat-link\" data-label=\"bcom\" href=\"https://www.bloomberg.com/professional/products/data/?utm_source=bloomberg-menu&amp;utm_medium=bcom\" tabindex=\"0\">Data</a>,\n",
       " <a class=\"bb-that-category__link\" data-description=\"Trading\" data-element=\"tophat-link\" data-label=\"bcom\" href=\"https://www.bloomberg.com/professional/products/trading/?utm_source=bloomberg-menu&amp;utm_medium=bcom\" tabindex=\"0\">Trading</a>,\n",
       " <a class=\"bb-that-category__link\" data-description=\"Risk\" data-element=\"tophat-link\" data-label=\"bcom\" href=\"https://www.bloomberg.com/professional/products/risk/?utm_source=bloomberg-menu&amp;utm_medium=bcom\" tabindex=\"0\">Risk</a>,\n",
       " <a class=\"bb-that-category__link\" data-description=\"Compliance\" data-element=\"tophat-link\" data-label=\"bcom\" href=\"https://www.bloomberg.com/professional/products/compliance/?utm_source=bloomberg-menu&amp;utm_medium=bcom\" tabindex=\"0\">Compliance</a>,\n",
       " <a class=\"bb-that-category__link\" data-description=\"Indices\" data-element=\"tophat-link\" data-label=\"bcom\" href=\"https://www.bloomberg.com/professional/products/indices/?utm_source=bloomberg-menu&amp;utm_medium=bcom\" tabindex=\"0\">Indices</a>,\n",
       " <a class=\"bb-that-category__link\" data-description=\"Bloomberg Law\" data-element=\"tophat-link\" data-label=\"bcom\" href=\"https://pro.bloomberglaw.com/?utm_source=bloomberg-menu&amp;utm_medium=bcom\" tabindex=\"0\">Bloomberg Law</a>,\n",
       " <a class=\"bb-that-category__link\" data-description=\"Bloomberg Tax\" data-element=\"tophat-link\" data-label=\"bcom\" href=\"https://pro.bloombergtax.com/?utm_source=bloomberg-menu&amp;utm_medium=bcom\" tabindex=\"0\">Bloomberg Tax</a>,\n",
       " <a class=\"bb-that-category__link\" data-description=\"Bloomberg Government\" data-element=\"tophat-link\" data-label=\"bcom\" href=\"https://about.bgov.com/?utm_source=bloomberg-menu&amp;utm_medium=bcom\" tabindex=\"0\">Bloomberg Government</a>,\n",
       " <a class=\"bb-that-category__link\" data-description=\"Bloomberg Environment\" data-element=\"tophat-link\" data-label=\"bcom\" href=\"https://pro.bloombergenvironment.com/?utm_source=bloomberg-menu&amp;utm_medium=bcom\" tabindex=\"0\">Bloomberg Environment</a>,\n",
       " <a class=\"bb-that-category__link\" data-description=\"BloombergNEF\" data-element=\"tophat-link\" data-label=\"bcom\" href=\"https://about.bnef.com/?utm_source=bloomberg-menu&amp;utm_medium=bcom\" tabindex=\"0\">BloombergNEF</a>,\n",
       " <a class=\"bb-that-category__link\" data-description=\"Bloomberg Markets\" data-element=\"tophat-link\" data-label=\"bcom\" href=\"https://www.bloomberg.com/markets/?utm_source=bloomberg-menu&amp;utm_medium=bcom\" tabindex=\"0\">Bloomberg Markets</a>,\n",
       " <a class=\"bb-that-category__link\" data-description=\"Bloomberg[br] Technology\" data-element=\"tophat-link\" data-label=\"bcom\" href=\"https://www.bloomberg.com/technology/?utm_source=bloomberg-menu&amp;utm_medium=bcom\" tabindex=\"0\">Bloomberg<br/> Technology</a>,\n",
       " <a class=\"bb-that-category__link\" data-description=\"Bloomberg Pursuits\" data-element=\"tophat-link\" data-label=\"bcom\" href=\"https://www.bloomberg.com/pursuits/?utm_source=bloomberg-menu&amp;utm_medium=bcom\" tabindex=\"0\">Bloomberg Pursuits</a>,\n",
       " <a class=\"bb-that-category__link\" data-description=\"Bloomberg Politics\" data-element=\"tophat-link\" data-label=\"bcom\" href=\"https://www.bloomberg.com/politics/?utm_source=bloomberg-menu&amp;utm_medium=bcom\" tabindex=\"0\">Bloomberg Politics</a>,\n",
       " <a class=\"bb-that-category__link\" data-description=\"Bloomberg Opinion\" data-element=\"tophat-link\" data-label=\"bcom\" href=\"https://www.bloomberg.com/opinion/?utm_source=bloomberg-menu&amp;utm_medium=bcom\" tabindex=\"0\">Bloomberg Opinion</a>,\n",
       " <a class=\"bb-that-category__link\" data-description=\"Bloomberg[br] Businessweek\" data-element=\"tophat-link\" data-label=\"bcom\" href=\"https://www.bloomberg.com/businessweek/?utm_source=bloomberg-menu&amp;utm_medium=bcom\" tabindex=\"0\">Bloomberg<br/> Businessweek</a>,\n",
       " <a class=\"bb-that-category__link\" data-description=\"Bloomberg Live Conferences\" data-element=\"tophat-link\" data-label=\"bcom\" href=\"https://www.bloomberglive.com/?utm_source=bloomberg-menu&amp;utm_medium=bcom\" tabindex=\"0\">Bloomberg Live Conferences</a>,\n",
       " <a class=\"bb-that-category__link\" data-description=\"Bloomberg Radio\" data-element=\"tophat-link\" data-label=\"bcom\" href=\"https://www.bloombergradio.com/?utm_source=bloomberg-menu&amp;utm_medium=bcom\" tabindex=\"0\">Bloomberg Radio</a>,\n",
       " <a class=\"bb-that-category__link\" data-description=\"Bloomberg Television\" data-element=\"tophat-link\" data-label=\"bcom\" href=\"https://www.bloomberg.com/live?utm_source=bloomberg-menu&amp;utm_medium=bcom\" tabindex=\"0\">Bloomberg Television</a>,\n",
       " <a class=\"bb-that-category__link\" data-description=\"News Bureaus\" data-element=\"tophat-link\" data-label=\"bcom\" href=\"https://www.bloomberg.com/company/news-bureaus/?utm_source=bloomberg-menu&amp;utm_medium=bcom\" tabindex=\"0\">News Bureaus</a>,\n",
       " <a class=\"bb-that-category__link\" data-description=\"Bloomberg Media Distribution\" data-element=\"tophat-link\" data-label=\"bcom\" href=\"https://www.bloomberg.com/distribution?utm_source=bloomberg-menu&amp;utm_medium=bcom\" tabindex=\"0\">Bloomberg Media Distribution</a>,\n",
       " <a class=\"bb-that-category__link\" data-description=\"Advertising\" data-element=\"tophat-link\" data-label=\"bcom\" href=\"https://www.bloombergmedia.com/?utm_source=bloomberg-menu&amp;utm_medium=bcom\" tabindex=\"0\">Advertising</a>,\n",
       " <a class=\"bb-that-category__link\" data-description=\"Bloomberg Anywhere Remote Login\" data-element=\"tophat-link\" data-label=\"bcom\" href=\"https://bba.bloomberg.net/?utm_source=bloomberg-menu&amp;utm_medium=bcom\" tabindex=\"0\">Bloomberg Anywhere Remote Login</a>,\n",
       " <a class=\"bb-that-category__link\" data-description=\"Software Updates\" data-element=\"tophat-link\" data-label=\"bcom\" href=\"https://www.bloomberg.com/professional/support/customer-support/software-updates/?utm_source=bloomberg-menu&amp;utm_medium=bcom\" tabindex=\"0\">Software Updates</a>,\n",
       " <a class=\"bb-that-category__link\" data-description=\"Manage Contracts and Orders\" data-element=\"tophat-link\" data-label=\"bcom\" href=\"https://service.bloomberg.com/portal/sessions/new?utm_source=bloomberg-menu&amp;utm_medium=bcom\" tabindex=\"0\">Manage Contracts and Orders</a>,\n",
       " <a class=\"media-ui-Logo_logo-08Z6l4waIQI-\" href=\"/\"><svg aria-label=\"Bloomberg\" data-component=\"bloombergLogo\" fill=\"currentColor\" height=\"100%\" role=\"img\" version=\"1.1\" viewbox=\"429.6 479.5 476.4 96.1\" width=\"100%\" xmlns=\"http://www.w3.org/2000/svg\"><rect fill=\"none\" height=\"100.2\" width=\"480.2\" x=\"429.5\" y=\"479.5\"></rect><path d=\"m442.1 491.9h10.4c9.5 0 13.6 3 13.6 9.1 0 5.3-4.2 8.9-12.5 8.9h-11.4v-18zm-12.5 59.7h25.4c13.3 0 26.7-4.8 26.7-20.1 0-9.1-6.4-16-15.2-17v-0.2c7.3-2.2 12.2-7.5 12.2-15.4 0-12.8-10.9-17.7-21.6-17.7h-27.5v70.4zm12.5-31h12c10.2 0 14.9 2.6 14.9 10 0 9.3-9 10.4-15.4 10.4h-11.5v-20.4z\" fill=\"currentColor\"></path><path d=\"m489.8 479.5h11.9v72.1h-11.9v-72.1z\" fill=\"currentColor\"></path><path d=\"m521.7 527.7c0-7.5 5.3-14.3 14-14.3 8.8 0 14 6.9 14 14.3 0 7.5-5.3 14.3-14 14.3-8.7 0.1-14-6.8-14-14.3zm-11.9 0c0 15 11.5 25.1 26 25.1 14.4 0 26-10.1 26-25.1s-11.5-25.1-26-25.1c-14.5 0.1-26 10.1-26 25.1z\" fill=\"currentColor\"></path><path d=\"m579.1 527.7c0-7.5 5.3-14.3 14-14.3 8.8 0 14 6.9 14 14.3 0 7.5-5.3 14.3-14 14.3-8.8 0.1-14-6.8-14-14.3zm-12 0c0 15 11.5 25.1 26 25.1 14.4 0 26-10.1 26-25.1s-11.5-25.1-26-25.1c-14.4 0.1-26 10.1-26 25.1z\" fill=\"currentColor\"></path><path d=\"m626.4 503.9h11.3v7.5h0.2c2.1-4.5 6.7-8.7 14.6-8.7 7.4 0 12.4 2.9 14.9 8.9 3.5-6.1 8.6-8.9 15.7-8.9 12.7 0 17.2 9.1 17.2 20.5v28.5h-11.9v-27.1c0-6-1.8-11.1-8.9-11.1-7.5 0-10.3 6.2-10.3 12.3v25.9h-11.9v-28.5c0-5.9-2.4-9.8-8.2-9.8-7.9 0-10.9 5.8-10.9 12.1v26.1h-11.9v-47.7z\" fill=\"currentColor\"></path><path d=\"m749.7 527.7c0 7.5-5.3 14.3-14 14.3-8.8 0-14-6.9-14-14.3 0-7.5 5.3-14.3 14-14.3s14 6.9 14 14.3zm-39.6 23.9h11.3v-7.2h0.2c3.5 5.8 9.8 8.4 16.4 8.4 14.7 0 23.6-10.9 23.6-25.1 0-14.1-9.5-25.1-23.1-25.1-9 0-13.7 4.2-16.2 7.3h-0.3v-30.4h-11.9v72.1z\" fill=\"currentColor\"></path><path d=\"m779 523c0.9-6.9 5.3-11.3 12.3-11.3 7.5 0 12 4.4 12.1 11.3h-24.4zm36.4 8.9v-3.3c0-16.6-9.1-26-22.4-26-14.4 0-26 10.1-26 25.1s11.5 25.1 26 25.1c7.6 0 14.6-2.7 20.2-9.6l-8.6-6.5c-3 3.7-6.9 6.5-12.8 6.5-6.7 0-12-4.3-12.8-11.3h36.4z\" fill=\"currentColor\"></path><path d=\"m823.2 503.9h11.9v7.6h0.2c2.6-5.5 7.9-8.8 14.1-8.8 1.5 0 2.9 0.3 4.3 0.7v11.5c-2-0.5-3.9-0.9-5.8-0.9-11.2 0-12.8 9.5-12.8 12v25.6h-11.9v-47.7z\" fill=\"currentColor\"></path><path d=\"m880.5 513.4c8.7 0 14.1 5.8 14.1 14 0 8-5.4 14-14.2 14-8.1 0-14-6.3-14-13.8 0-8.4 5.7-14.2 14.1-14.2zm14.1-9.5v7.2h-0.2c-3.5-5.8-9.8-8.4-16.4-8.4-14.7 0-23.6 11-23.6 25.1 0 13.5 9.5 24.5 23.8 24.5 6 0 12.1-2.3 15.6-7h0.2v3.5c0 9.5-3.6 16-15.1 16-6.7 0-11.6-2.5-16.4-6.9l-7.2 9.8c6.8 6 14.8 7.9 23.7 7.9 18.6 0 27-10.9 27-28.2v-43.5h-11.4z\" fill=\"currentColor\"></path></svg></a>,\n",
       " <a class=\"media-ui-LogoBar_subscribeButton-rqH7oKAhEzM-\" href=\"https://www.bloomberg.com/subscriptions?in_source=nav\" rel=\"noreferrer\" target=\"_blank\">Subscribe</a>,\n",
       " <a class=\"media-ui-MenuDesktop_menuItem-dkjmIzh9cuI- media-ui-MenuDesktop_liveTVMenuItem-Auy490G3xvI-\" data-menuid=\"live-now\" href=\"/live\"><span class=\"media-ui-MenuDesktop_liveNow-uWWvpLJ-Q3Q-\">Live TV</span></a>,\n",
       " <a href=\"https://www.bloomberg.com/markets\">Markets</a>,\n",
       " <a href=\"https://www.bloomberg.com/economics\">Economics</a>,\n",
       " <a href=\"https://www.bloomberg.com/industries\">Industries</a>,\n",
       " <a href=\"https://www.bloomberg.com/technology\">Tech</a>,\n",
       " <a href=\"https://www.bloomberg.com/politics\">Politics</a>,\n",
       " <a href=\"https://www.bloomberg.com/businessweek\">Businessweek</a>,\n",
       " <a href=\"https://www.bloomberg.com/opinion\">Opinion</a>,\n",
       " <a class=\"media-ui-LogoBarMobile_logoLink-MV1DgiEaeWc-\" href=\"/\"><svg aria-label=\"Bloomberg\" data-component=\"bloombergLogo\" fill=\"currentColor\" height=\"100%\" role=\"img\" version=\"1.1\" viewbox=\"429.6 479.5 476.4 96.1\" width=\"100%\" xmlns=\"http://www.w3.org/2000/svg\"><rect fill=\"none\" height=\"100.2\" width=\"480.2\" x=\"429.5\" y=\"479.5\"></rect><path d=\"m442.1 491.9h10.4c9.5 0 13.6 3 13.6 9.1 0 5.3-4.2 8.9-12.5 8.9h-11.4v-18zm-12.5 59.7h25.4c13.3 0 26.7-4.8 26.7-20.1 0-9.1-6.4-16-15.2-17v-0.2c7.3-2.2 12.2-7.5 12.2-15.4 0-12.8-10.9-17.7-21.6-17.7h-27.5v70.4zm12.5-31h12c10.2 0 14.9 2.6 14.9 10 0 9.3-9 10.4-15.4 10.4h-11.5v-20.4z\" fill=\"currentColor\"></path><path d=\"m489.8 479.5h11.9v72.1h-11.9v-72.1z\" fill=\"currentColor\"></path><path d=\"m521.7 527.7c0-7.5 5.3-14.3 14-14.3 8.8 0 14 6.9 14 14.3 0 7.5-5.3 14.3-14 14.3-8.7 0.1-14-6.8-14-14.3zm-11.9 0c0 15 11.5 25.1 26 25.1 14.4 0 26-10.1 26-25.1s-11.5-25.1-26-25.1c-14.5 0.1-26 10.1-26 25.1z\" fill=\"currentColor\"></path><path d=\"m579.1 527.7c0-7.5 5.3-14.3 14-14.3 8.8 0 14 6.9 14 14.3 0 7.5-5.3 14.3-14 14.3-8.8 0.1-14-6.8-14-14.3zm-12 0c0 15 11.5 25.1 26 25.1 14.4 0 26-10.1 26-25.1s-11.5-25.1-26-25.1c-14.4 0.1-26 10.1-26 25.1z\" fill=\"currentColor\"></path><path d=\"m626.4 503.9h11.3v7.5h0.2c2.1-4.5 6.7-8.7 14.6-8.7 7.4 0 12.4 2.9 14.9 8.9 3.5-6.1 8.6-8.9 15.7-8.9 12.7 0 17.2 9.1 17.2 20.5v28.5h-11.9v-27.1c0-6-1.8-11.1-8.9-11.1-7.5 0-10.3 6.2-10.3 12.3v25.9h-11.9v-28.5c0-5.9-2.4-9.8-8.2-9.8-7.9 0-10.9 5.8-10.9 12.1v26.1h-11.9v-47.7z\" fill=\"currentColor\"></path><path d=\"m749.7 527.7c0 7.5-5.3 14.3-14 14.3-8.8 0-14-6.9-14-14.3 0-7.5 5.3-14.3 14-14.3s14 6.9 14 14.3zm-39.6 23.9h11.3v-7.2h0.2c3.5 5.8 9.8 8.4 16.4 8.4 14.7 0 23.6-10.9 23.6-25.1 0-14.1-9.5-25.1-23.1-25.1-9 0-13.7 4.2-16.2 7.3h-0.3v-30.4h-11.9v72.1z\" fill=\"currentColor\"></path><path d=\"m779 523c0.9-6.9 5.3-11.3 12.3-11.3 7.5 0 12 4.4 12.1 11.3h-24.4zm36.4 8.9v-3.3c0-16.6-9.1-26-22.4-26-14.4 0-26 10.1-26 25.1s11.5 25.1 26 25.1c7.6 0 14.6-2.7 20.2-9.6l-8.6-6.5c-3 3.7-6.9 6.5-12.8 6.5-6.7 0-12-4.3-12.8-11.3h36.4z\" fill=\"currentColor\"></path><path d=\"m823.2 503.9h11.9v7.6h0.2c2.6-5.5 7.9-8.8 14.1-8.8 1.5 0 2.9 0.3 4.3 0.7v11.5c-2-0.5-3.9-0.9-5.8-0.9-11.2 0-12.8 9.5-12.8 12v25.6h-11.9v-47.7z\" fill=\"currentColor\"></path><path d=\"m880.5 513.4c8.7 0 14.1 5.8 14.1 14 0 8-5.4 14-14.2 14-8.1 0-14-6.3-14-13.8 0-8.4 5.7-14.2 14.1-14.2zm14.1-9.5v7.2h-0.2c-3.5-5.8-9.8-8.4-16.4-8.4-14.7 0-23.6 11-23.6 25.1 0 13.5 9.5 24.5 23.8 24.5 6 0 12.1-2.3 15.6-7h0.2v3.5c0 9.5-3.6 16-15.1 16-6.7 0-11.6-2.5-16.4-6.9l-7.2 9.8c6.8 6 14.8 7.9 23.7 7.9 18.6 0 27-10.9 27-28.2v-43.5h-11.4z\" fill=\"currentColor\"></path></svg></a>,\n",
       " <a class=\"media-ui-LogoBarMobile_subscribeButtonContainer-qrdypN163Cs-\" href=\"https://www.bloomberg.com/subscriptions?in_source=nav-mobileweb\" rel=\"noreferrer\" target=\"_blank\"><span class=\"media-ui-LogoBarMobile_subscribeButton-GzFf5a3agro-\">Subscribe</span></a>,\n",
       " <a class=\"styles_imageOverlayLink__dSkNK\" href=\"/news/articles/2024-10-03/exxon-sees-1-6-billion-earnings-hit-from-oil-refining-margins?srnd=commodities\"><section class=\"styles_image__adJIY\" data-component=\"single-story-multimedia__image\"><figure data-component=\"lazy-image\"><div class=\"styles_lazy__myc_L\" style=\"--aspect-ratio:1.33\"><img alt=\"Fawley Oil Terminal And Fuel Stations As Oil Soars Past $100 A Barrel\n",
       " \n",
       " \" class=\"ui-image\" data-component=\"image\" fetchpriority=\"high\" loading=\"eager\" sizes=\"(min-width: 1px) and (max-width: 619px) 220px,\n",
       "                         (min-width: 620px) and (max-width: 759px) 480px,\n",
       "                         (min-width: 760px) and (max-width: 1019px) 640px, 1200px\" src=\"https://assets.bwbx.io/images/users/iqjWHBFdfxIU/iBiIr4eh8q7g/v0/25x19.jpg\" srcset=\"https://assets.bwbx.io/images/users/iqjWHBFdfxIU/iBiIr4eh8q7g/v0/220x165.webp 220w, https://assets.bwbx.io/images/users/iqjWHBFdfxIU/iBiIr4eh8q7g/v0/480x360.webp 480w, https://assets.bwbx.io/images/users/iqjWHBFdfxIU/iBiIr4eh8q7g/v0/640x480.webp 640w, https://assets.bwbx.io/images/users/iqjWHBFdfxIU/iBiIr4eh8q7g/v0/720x540.webp 720w, https://assets.bwbx.io/images/users/iqjWHBFdfxIU/iBiIr4eh8q7g/v0/960x720.webp 960w, https://assets.bwbx.io/images/users/iqjWHBFdfxIU/iBiIr4eh8q7g/v0/1020x765.webp 1020w, https://assets.bwbx.io/images/users/iqjWHBFdfxIU/iBiIr4eh8q7g/v0/1200x900.webp 1200w, https://assets.bwbx.io/images/users/iqjWHBFdfxIU/iBiIr4eh8q7g/v0/1280x960.webp 1280w, https://assets.bwbx.io/images/users/iqjWHBFdfxIU/iBiIr4eh8q7g/v0/1400x1050.webp 1400w, https://assets.bwbx.io/images/users/iqjWHBFdfxIU/iBiIr4eh8q7g/v0/1800x1350.webp 1800w, https://assets.bwbx.io/images/users/iqjWHBFdfxIU/iBiIr4eh8q7g/v0/2000x1500.webp 2000w\"/></div></figure></section></a>,\n",
       " <a href=\"/news/articles/2024-10-03/exxon-sees-1-6-billion-earnings-hit-from-oil-refining-margins?srnd=commodities\">Exxon Sees $1.6 Billion Earnings Hit From Oil, Refining Margins</a>,\n",
       " <a class=\"hover:underline\" href=\"/markets\">Markets</a>,\n",
       " <a href=\"/news/articles/2024-10-03/blackstone-spies-30-trillion-opportunity-in-private-credit?srnd=commodities\">Blackstone Spies $30 Trillion Opportunity in Private Credit</a>,\n",
       " <a class=\"hover:underline\" href=\"/markets\">Markets</a>,\n",
       " <a href=\"/news/articles/2024-10-03/ecopetrol-says-gas-discovery-could-meet-80-of-colombia-s-demand?srnd=commodities\">Ecopetrol Says Gas Discovery Could Meet 80% of Colombia’s Demand</a>,\n",
       " <a href=\"/news/articles/2024-10-03/south-african-corn-export-forecast-raised-to-1-9-million-tons?srnd=commodities\">South African Corn Export Forecast Raised to 1.9 Million Tons</a>,\n",
       " <a class=\"hover:underline\" href=\"/technology\">Technology</a>,\n",
       " <a href=\"/news/articles/2024-10-03/texas-regulator-wants-data-centers-to-build-power-plants?srnd=commodities\">Texas Regulator Wants Data Centers to Build Power Plants</a>,\n",
       " <a href=\"https://www.bloomberg.com/notices/privacy/\" rel=\"noopener noreferrer\" target=\"_blank\">Privacy Policy</a>,\n",
       " <a href=\"https://www.bloomberg.com/notices/tos/?in_source=hp-nav\" rel=\"noopener noreferrer\" target=\"_blank\">Terms of Service</a>,\n",
       " <a aria-label=\"Follow us on Facebook\" class=\"styles_link__FBGbI\" href=\"https://www.facebook.com/bloombergbusiness/\" rel=\"noreferrer\" target=\"_blank\"><svg aria-label=\"Facebook\" class=\"styles_icon__2lAzF\" fill=\"none\" height=\"24\" role=\"img\" viewbox=\"0 0 24 24\" width=\"24\" xmlns=\"http://www.w3.org/2000/svg\"><title>Facebook</title><path clip-rule=\"evenodd\" d=\"M22 12.0611C22 6.50451 17.5229 2 12 2C6.47715 2 2 6.50451 2 12.0611C2 17.0829 5.65686 21.2452 10.4375 22V14.9694H7.89844V12.0611H10.4375V9.84452C10.4375 7.32296 11.9304 5.93012 14.2146 5.93012C15.3087 5.93012 16.4531 6.12663 16.4531 6.12663V8.60261H15.1921C13.9499 8.60261 13.5625 9.37816 13.5625 10.1738V12.0611H16.3359L15.8926 14.9694H13.5625V22C18.3431 21.2452 22 17.0829 22 12.0611Z\" fill=\"currentColor\" fill-rule=\"evenodd\"></path></svg></a>,\n",
       " <a aria-label=\"Follow us on Twitter\" class=\"styles_link__FBGbI\" href=\"https://www.facebook.com/bloombergbusiness/\" rel=\"noreferrer\" target=\"_blank\"><svg aria-label=\"Twitter\" class=\"styles_icon__2lAzF\" fill=\"none\" height=\"24\" role=\"img\" viewbox=\"0 0 24 24\" width=\"24\" xmlns=\"http://www.w3.org/2000/svg\"><title>Twitter</title><path d=\"M22 5.75994C21.8663 5.96888 21.7242 6.16947 21.5654 6.37005C21.4091 6.56883 21.2417 6.75857 21.0639 6.93838C20.8884 7.11389 20.6962 7.2894 20.5207 7.43984C20.3452 7.59028 20.1446 7.74908 19.9356 7.91623V8.16696C19.9442 8.26428 19.9442 8.36216 19.9356 8.45948C19.9272 9.86509 19.6667 11.2578 19.1667 12.5715C18.6768 13.9535 17.9375 15.234 16.9854 16.3492C15.9538 17.5038 14.7003 18.439 13.2996 19.0988C11.7309 19.8304 10.0156 20.1935 8.285 20.1603C7.72589 20.157 7.16757 20.1179 6.61346 20.0433C6.06192 19.9687 5.51702 19.8514 4.9837 19.6922C4.44731 19.5412 3.92451 19.3455 3.42081 19.1072C2.92938 18.8601 2.45476 18.5809 2 18.2714H2.96949C3.44825 18.2708 3.92617 18.2316 4.39866 18.1544C4.82812 18.0913 5.25066 17.9877 5.66068 17.8452C6.09688 17.7169 6.51737 17.5403 6.91433 17.3187C7.30653 17.0994 7.67607 16.8418 8.01755 16.5497C7.14915 16.5497 6.30645 16.2551 5.62725 15.714C5.28446 15.4765 4.98721 15.1792 4.74969 14.8364C4.49845 14.4784 4.30393 14.0837 4.173 13.6663C4.30262 13.6939 4.4338 13.7134 4.56582 13.7248C4.69663 13.733 4.82782 13.733 4.95863 13.7248C5.13951 13.7368 5.321 13.7368 5.50188 13.7248C5.68528 13.6975 5.86673 13.6584 6.04513 13.6078C5.11309 13.4476 4.27506 12.9436 3.69661 12.1954C3.38066 11.8467 3.1339 11.4411 2.96949 11.0002C2.80046 10.5428 2.71552 10.0587 2.71876 9.57106L3.17008 9.78L3.61304 9.9388L4.09778 10.0224C4.25901 10.0376 4.42131 10.0376 4.58253 10.0224C4.31379 9.83314 4.06461 9.61756 3.8387 9.37883C3.60412 9.13014 3.40703 8.84859 3.25366 8.54306C3.09569 8.24515 2.96962 7.93139 2.87756 7.607C2.80195 7.29527 2.76823 6.97485 2.77727 6.65422C2.7667 6.48444 2.7667 6.31417 2.77727 6.1444C2.80462 5.961 2.8437 5.77954 2.89427 5.60115C2.94442 5.44235 3.01128 5.28355 3.06979 5.1164C3.13396 4.9455 3.21812 4.78278 3.32052 4.63165C3.8146 5.24855 4.37516 5.80912 4.99206 6.30319C5.63366 6.81165 6.32865 7.24882 7.06477 7.607C7.77495 7.99761 8.52987 8.3007 9.313 8.50963C10.1332 8.72561 10.9733 8.85723 11.8203 8.90244C11.7922 8.74483 11.7726 8.58579 11.7618 8.42605V7.94966C11.7583 7.39963 11.8634 6.85431 12.071 6.34498C12.2613 5.8622 12.5454 5.42191 12.9068 5.04954C13.2956 4.68628 13.7418 4.38977 14.2273 4.17198C14.7328 3.94918 15.2796 3.83527 15.832 3.83767C16.1136 3.83817 16.3941 3.87183 16.6678 3.93796C16.9523 4.00034 17.2317 4.08416 17.5036 4.18869C17.7621 4.2943 18.0064 4.43188 18.2307 4.59822C18.4448 4.7609 18.6485 4.93675 18.8408 5.12476C19.0612 5.09688 19.2791 5.05217 19.4927 4.99103C19.7232 4.92955 19.9472 4.84557 20.1613 4.7403C20.3702 4.65672 20.5792 4.57315 20.7881 4.4645L21.415 4.15526C21.3343 4.39055 21.2366 4.6196 21.1224 4.84059C21.0079 5.05789 20.8706 5.26241 20.7129 5.45071C20.5669 5.65022 20.3987 5.83248 20.2115 5.99396C20.0284 6.15427 19.8328 6.29961 19.6264 6.42856C19.8354 6.42856 20.0359 6.37005 20.2365 6.32827C20.4371 6.28648 20.6377 6.24469 20.8466 6.18619C21.0399 6.13416 21.2298 6.06995 21.415 5.99396L22 5.75994Z\" fill=\"currentColor\"></path></svg></a>,\n",
       " <a aria-label=\"Follow us on YouTube\" class=\"styles_link__FBGbI\" href=\"https://www.facebook.com/bloombergbusiness/\" rel=\"noreferrer\" target=\"_blank\"><svg aria-label=\"YouTube\" class=\"styles_icon__2lAzF\" fill=\"none\" height=\"24\" role=\"img\" viewbox=\"0 0 24 24\" width=\"24\" xmlns=\"http://www.w3.org/2000/svg\"><title>YouTube</title><path clip-rule=\"evenodd\" d=\"M20.9356 6.06695C21.2459 6.37724 21.4687 6.76306 21.5818 7.18581C22 8.74613 22 12 22 12C22 12 22 15.2539 21.5818 16.8142C21.4687 17.2369 21.2459 17.6228 20.9356 17.933C20.6253 18.2433 20.2384 18.4672 19.8136 18.5823C18.25 19 12 19 12 19C12 19 5.75 19 4.18636 18.5823C3.76161 18.4672 3.37472 18.2433 3.06441 17.933C2.7541 17.6228 2.53125 17.2369 2.41818 16.8142C2 15.2539 2 12 2 12C2 12 2 8.74613 2.41818 7.18581C2.53125 6.76306 2.7541 6.37724 3.06441 6.06695C3.37472 5.75666 3.76161 5.53279 4.18636 5.41774C5.75 5 12 5 12 5C12 5 18.25 5 19.8136 5.41774C20.2384 5.53279 20.6253 5.75666 20.9356 6.06695ZM15 12L10 15V9L15 12Z\" fill=\"currentColor\" fill-rule=\"evenodd\"></path></svg></a>,\n",
       " <a class=\"hover:underline\" href=\"/markets\">Markets</a>,\n",
       " <a href=\"/news/articles/2024-10-03/adani-group-seeks-to-invest-900-million-in-tanzania-power-lines?srnd=commodities\">Adani Group Seeks to Invest $900 Million in Tanzania Power Lines</a>,\n",
       " <a class=\"hover:underline\" href=\"/markets\">Markets</a>,\n",
       " <a href=\"/news/articles/2024-10-03/evgo-jumps-37-after-1-1-billion-loan-commitment-from-doe?srnd=commodities\">EVgo Jumps 64% After $1.1 Billion Loan Commitment From DOE</a>,\n",
       " <a class=\"hover:underline\" href=\"/politics\">Politics</a>,\n",
       " <a href=\"/news/articles/2024-10-03/south-africa-weighs-measures-to-ease-electricity-price-increase?srnd=commodities\">South Africa Weighs Measures to Ease Electricity Price Increase</a>,\n",
       " <a class=\"hover:underline\" href=\"/markets\">Markets</a>,\n",
       " <a href=\"/news/articles/2024-10-03/kremlin-oil-revenue-grew-in-september-at-companies-expense?srnd=commodities\">Kremlin Oil Revenue Grew in September at Companies’ Expense</a>,\n",
       " <a class=\"hover:underline\" href=\"/markets\">Markets</a>,\n",
       " <a href=\"/news/articles/2024-10-03/pause-in-china-rally-sparks-wider-drop-in-emerging-market-stocks?srnd=commodities\">Emerging Currencies Fall Amid Middle East Conflict, US Data</a>,\n",
       " <a class=\"hover:underline\" href=\"/markets\">Markets</a>,\n",
       " <a href=\"/news/articles/2024-10-03/libya-to-restart-oil-production-ending-crisis?srnd=commodities\">Libya Resumes Oil Production, Ending Crippling Crisis</a>,\n",
       " <a href=\"/news/articles/2024-10-03/brazil-seen-importing-most-diesel-in-two-years-as-economy-gains?srnd=commodities\"><figure data-component=\"lazy-image\"><div class=\"styles_lazy__myc_L\" style=\"--aspect-ratio:1.33\"><img alt=\"Bolsonaro's Privatization Talk Masks Petrobras Refinery Woes\" class=\"ui-image\" data-component=\"image\" loading=\"lazy\" sizes=\"(min-width: 1px) and (max-width: 619px) 220px,\n",
       "                         (min-width: 620px) and (max-width: 759px) 480px,\n",
       "                         (min-width: 760px) and (max-width: 1019px) 640px, 1200px\" src=\"https://assets.bwbx.io/images/users/iqjWHBFdfxIU/ibiYFkw9YME4/v0/25x19.jpg\" srcset=\"https://assets.bwbx.io/images/users/iqjWHBFdfxIU/ibiYFkw9YME4/v0/220x165.webp 220w, https://assets.bwbx.io/images/users/iqjWHBFdfxIU/ibiYFkw9YME4/v0/480x360.webp 480w, https://assets.bwbx.io/images/users/iqjWHBFdfxIU/ibiYFkw9YME4/v0/507x380.webp 507w\"/></div></figure></a>,\n",
       " <a class=\"hover:underline\" href=\"/markets\">Markets</a>,\n",
       " <a href=\"/news/articles/2024-10-03/brazil-seen-importing-most-diesel-in-two-years-as-economy-gains?srnd=commodities\">Brazil Seen Importing Most Diesel in Two Years as Economy Gains</a>,\n",
       " <a href=\"/news/articles/2024-10-03/nigeria-proposes-new-tax-incentives-to-attract-gas-investors?srnd=commodities\"><figure data-component=\"lazy-image\"><div class=\"styles_lazy__myc_L\" style=\"--aspect-ratio:1.33\"><img alt=\"Equinor ASA's Johan Sverdrup Oil Platform\n",
       " \" class=\"ui-image\" data-component=\"image\" loading=\"lazy\" sizes=\"(min-width: 1px) and (max-width: 619px) 220px,\n",
       "                         (min-width: 620px) and (max-width: 759px) 480px,\n",
       "                         (min-width: 760px) and (max-width: 1019px) 640px, 1200px\" src=\"https://assets.bwbx.io/images/users/iqjWHBFdfxIU/iuX1gN52vVRs/v1/25x19.jpg\" srcset=\"https://assets.bwbx.io/images/users/iqjWHBFdfxIU/iuX1gN52vVRs/v1/220x165.webp 220w, https://assets.bwbx.io/images/users/iqjWHBFdfxIU/iuX1gN52vVRs/v1/480x360.webp 480w, https://assets.bwbx.io/images/users/iqjWHBFdfxIU/iuX1gN52vVRs/v1/507x380.webp 507w\"/></div></figure></a>,\n",
       " <a class=\"hover:underline\" href=\"/markets\">Markets</a>,\n",
       " <a href=\"/news/articles/2024-10-03/nigeria-proposes-new-tax-incentives-to-attract-gas-investors?srnd=commodities\">Nigeria Proposes New Tax Incentives to Attract Gas Investors</a>,\n",
       " <a href=\"/news/articles/2024-10-03/oil-tanker-market-surges-as-iran-israel-spurs-cargo-clamor?srnd=commodities\"><figure data-component=\"lazy-image\"><div class=\"styles_lazy__myc_L\" style=\"--aspect-ratio:1.33\"><img alt=\"ANGOLA-OFFSHORE-PETROLE\" class=\"ui-image\" data-component=\"image\" loading=\"lazy\" sizes=\"(min-width: 1px) and (max-width: 619px) 220px,\n",
       "                         (min-width: 620px) and (max-width: 759px) 480px,\n",
       "                         (min-width: 760px) and (max-width: 1019px) 640px, 1200px\" src=\"https://assets.bwbx.io/images/users/iqjWHBFdfxIU/i.z6XS_.5YNc/v1/25x19.jpg\" srcset=\"https://assets.bwbx.io/images/users/iqjWHBFdfxIU/i.z6XS_.5YNc/v1/220x165.webp 220w, https://assets.bwbx.io/images/users/iqjWHBFdfxIU/i.z6XS_.5YNc/v1/480x360.webp 480w, https://assets.bwbx.io/images/users/iqjWHBFdfxIU/i.z6XS_.5YNc/v1/507x380.webp 507w\"/></div></figure></a>,\n",
       " <a class=\"hover:underline\" href=\"/markets\">Markets</a>,\n",
       " <a href=\"/news/articles/2024-10-03/oil-tanker-market-surges-as-iran-israel-spurs-cargo-clamor?srnd=commodities\">Oil Tanker Market Surges as Iran-Israel Spurs Cargo Clamor</a>,\n",
       " <a href=\"/news/articles/2024-10-03/helix-energy-solutions-said-to-explore-options-including-sale?srnd=commodities\"><figure data-component=\"lazy-image\"><div class=\"styles_lazy__myc_L\" style=\"--aspect-ratio:1.33\"><img alt=\"BP Continues Efforts To Plug Leaking Well As 100 Day Mark Passe\" class=\"ui-image\" data-component=\"image\" loading=\"lazy\" sizes=\"(min-width: 1px) and (max-width: 619px) 220px,\n",
       "                         (min-width: 620px) and (max-width: 759px) 480px,\n",
       "                         (min-width: 760px) and (max-width: 1019px) 640px, 1200px\" src=\"https://assets.bwbx.io/images/users/iqjWHBFdfxIU/iQtpfdR0_e9s/v0/25x19.jpg\" srcset=\"https://assets.bwbx.io/images/users/iqjWHBFdfxIU/iQtpfdR0_e9s/v0/220x165.webp 220w, https://assets.bwbx.io/images/users/iqjWHBFdfxIU/iQtpfdR0_e9s/v0/480x360.webp 480w, https://assets.bwbx.io/images/users/iqjWHBFdfxIU/iQtpfdR0_e9s/v0/507x380.webp 507w\"/></div></figure></a>,\n",
       " <a href=\"/news/articles/2024-10-03/helix-energy-solutions-said-to-explore-options-including-sale?srnd=commodities\">Helix Energy Solutions Explores Options, Including Sale</a>,\n",
       " <a href=\"/news/articles/2024-10-03/sudden-shift-on-china-means-lme-week-whiplash-for-metal-traders?srnd=commodities\"><figure data-component=\"lazy-image\"><div class=\"styles_lazy__myc_L\" style=\"--aspect-ratio:1.33\"><img alt=\"Trading In The Open Outcry Pit On The Floor Of The London Metal Exchange\" class=\"ui-image\" data-component=\"image\" loading=\"lazy\" sizes=\"(min-width: 1px) and (max-width: 619px) 220px,\n",
       "                         (min-width: 620px) and (max-width: 759px) 480px,\n",
       "                         (min-width: 760px) and (max-width: 1019px) 640px, 1200px\" src=\"https://assets.bwbx.io/images/users/iqjWHBFdfxIU/ithZSXlSY7Q8/v1/25x19.jpg\" srcset=\"https://assets.bwbx.io/images/users/iqjWHBFdfxIU/ithZSXlSY7Q8/v1/220x165.webp 220w, https://assets.bwbx.io/images/users/iqjWHBFdfxIU/ithZSXlSY7Q8/v1/480x360.webp 480w, https://assets.bwbx.io/images/users/iqjWHBFdfxIU/ithZSXlSY7Q8/v1/507x380.webp 507w\"/></div></figure></a>,\n",
       " <a class=\"hover:underline\" href=\"/markets\">Markets</a>,\n",
       " <a href=\"/news/articles/2024-10-03/sudden-shift-on-china-means-lme-week-whiplash-for-metal-traders?srnd=commodities\">Sudden Shift in China Metals Sentiment Drives LME Week Optimism</a>,\n",
       " <a href=\"/news/articles/2024-10-03/green-hydrogen-hype-fades-as-high-costs-force-project-retreat?srnd=commodities\"><figure data-component=\"lazy-image\"><div class=\"styles_lazy__myc_L\" style=\"--aspect-ratio:1.33\"><img alt=\"Green Hydrogen Hype Fades as High Costs Force Project Retreat\" class=\"ui-image\" data-component=\"image\" loading=\"lazy\" sizes=\"(min-width: 1px) and (max-width: 619px) 220px,\n",
       "                         (min-width: 620px) and (max-width: 759px) 480px,\n",
       "                         (min-width: 760px) and (max-width: 1019px) 640px, 1200px\" src=\"https://assets.bwbx.io/images/users/iqjWHBFdfxIU/iDyK8Y4dyrlY/v1/25x19.jpg\" srcset=\"https://assets.bwbx.io/images/users/iqjWHBFdfxIU/iDyK8Y4dyrlY/v1/220x165.webp 220w, https://assets.bwbx.io/images/users/iqjWHBFdfxIU/iDyK8Y4dyrlY/v1/480x360.webp 480w, https://assets.bwbx.io/images/users/iqjWHBFdfxIU/iDyK8Y4dyrlY/v1/507x380.webp 507w\"/></div></figure></a>,\n",
       " <a class=\"hover:underline\" href=\"/green\">Green</a>,\n",
       " <a href=\"/news/articles/2024-10-03/green-hydrogen-hype-fades-as-high-costs-force-project-retreat?srnd=commodities\">Green Hydrogen Hype Fades as High Costs Force Project Retreat</a>,\n",
       " <a class=\"media-ui-Logo_logo-08Z6l4waIQI-\" href=\"/\"><svg aria-label=\"Bloomberg\" data-component=\"bloombergLogo\" fill=\"currentColor\" height=\"100%\" role=\"img\" version=\"1.1\" viewbox=\"429.6 479.5 476.4 96.1\" width=\"100%\" xmlns=\"http://www.w3.org/2000/svg\"><rect fill=\"none\" height=\"100.2\" width=\"480.2\" x=\"429.5\" y=\"479.5\"></rect><path d=\"m442.1 491.9h10.4c9.5 0 13.6 3 13.6 9.1 0 5.3-4.2 8.9-12.5 8.9h-11.4v-18zm-12.5 59.7h25.4c13.3 0 26.7-4.8 26.7-20.1 0-9.1-6.4-16-15.2-17v-0.2c7.3-2.2 12.2-7.5 12.2-15.4 0-12.8-10.9-17.7-21.6-17.7h-27.5v70.4zm12.5-31h12c10.2 0 14.9 2.6 14.9 10 0 9.3-9 10.4-15.4 10.4h-11.5v-20.4z\" fill=\"currentColor\"></path><path d=\"m489.8 479.5h11.9v72.1h-11.9v-72.1z\" fill=\"currentColor\"></path><path d=\"m521.7 527.7c0-7.5 5.3-14.3 14-14.3 8.8 0 14 6.9 14 14.3 0 7.5-5.3 14.3-14 14.3-8.7 0.1-14-6.8-14-14.3zm-11.9 0c0 15 11.5 25.1 26 25.1 14.4 0 26-10.1 26-25.1s-11.5-25.1-26-25.1c-14.5 0.1-26 10.1-26 25.1z\" fill=\"currentColor\"></path><path d=\"m579.1 527.7c0-7.5 5.3-14.3 14-14.3 8.8 0 14 6.9 14 14.3 0 7.5-5.3 14.3-14 14.3-8.8 0.1-14-6.8-14-14.3zm-12 0c0 15 11.5 25.1 26 25.1 14.4 0 26-10.1 26-25.1s-11.5-25.1-26-25.1c-14.4 0.1-26 10.1-26 25.1z\" fill=\"currentColor\"></path><path d=\"m626.4 503.9h11.3v7.5h0.2c2.1-4.5 6.7-8.7 14.6-8.7 7.4 0 12.4 2.9 14.9 8.9 3.5-6.1 8.6-8.9 15.7-8.9 12.7 0 17.2 9.1 17.2 20.5v28.5h-11.9v-27.1c0-6-1.8-11.1-8.9-11.1-7.5 0-10.3 6.2-10.3 12.3v25.9h-11.9v-28.5c0-5.9-2.4-9.8-8.2-9.8-7.9 0-10.9 5.8-10.9 12.1v26.1h-11.9v-47.7z\" fill=\"currentColor\"></path><path d=\"m749.7 527.7c0 7.5-5.3 14.3-14 14.3-8.8 0-14-6.9-14-14.3 0-7.5 5.3-14.3 14-14.3s14 6.9 14 14.3zm-39.6 23.9h11.3v-7.2h0.2c3.5 5.8 9.8 8.4 16.4 8.4 14.7 0 23.6-10.9 23.6-25.1 0-14.1-9.5-25.1-23.1-25.1-9 0-13.7 4.2-16.2 7.3h-0.3v-30.4h-11.9v72.1z\" fill=\"currentColor\"></path><path d=\"m779 523c0.9-6.9 5.3-11.3 12.3-11.3 7.5 0 12 4.4 12.1 11.3h-24.4zm36.4 8.9v-3.3c0-16.6-9.1-26-22.4-26-14.4 0-26 10.1-26 25.1s11.5 25.1 26 25.1c7.6 0 14.6-2.7 20.2-9.6l-8.6-6.5c-3 3.7-6.9 6.5-12.8 6.5-6.7 0-12-4.3-12.8-11.3h36.4z\" fill=\"currentColor\"></path><path d=\"m823.2 503.9h11.9v7.6h0.2c2.6-5.5 7.9-8.8 14.1-8.8 1.5 0 2.9 0.3 4.3 0.7v11.5c-2-0.5-3.9-0.9-5.8-0.9-11.2 0-12.8 9.5-12.8 12v25.6h-11.9v-47.7z\" fill=\"currentColor\"></path><path d=\"m880.5 513.4c8.7 0 14.1 5.8 14.1 14 0 8-5.4 14-14.2 14-8.1 0-14-6.3-14-13.8 0-8.4 5.7-14.2 14.1-14.2zm14.1-9.5v7.2h-0.2c-3.5-5.8-9.8-8.4-16.4-8.4-14.7 0-23.6 11-23.6 25.1 0 13.5 9.5 24.5 23.8 24.5 6 0 12.1-2.3 15.6-7h0.2v3.5c0 9.5-3.6 16-15.1 16-6.7 0-11.6-2.5-16.4-6.9l-7.2 9.8c6.8 6 14.8 7.9 23.7 7.9 18.6 0 27-10.9 27-28.2v-43.5h-11.4z\" fill=\"currentColor\"></path></svg></a>,\n",
       " <a class=\"media-ui-SubmenuDesktop_link-B9b8-zDvba4-\" data-menuid=\"footer-items-menu\" data-submenuid=\"footer-items-menu\" href=\"https://www.bloomberg.com/\">Home</a>,\n",
       " <a class=\"media-ui-SubmenuDesktop_link-B9b8-zDvba4-\" data-menuid=\"footer-items-menu\" data-submenuid=\"footer-items-menu\" href=\"https://www.bloomberg.com/live\">BTV+</a>,\n",
       " <a class=\"media-ui-SubmenuDesktop_link-B9b8-zDvba4-\" data-menuid=\"footer-items-menu\" data-submenuid=\"footer-items-menu\" href=\"https://www.bloomberg.com/markets/stocks\">Market Data</a>,\n",
       " <a class=\"media-ui-SubmenuDesktop_link-B9b8-zDvba4-\" data-menuid=\"footer-items-menu\" data-submenuid=\"footer-items-menu\" href=\"https://www.bloomberg.com/opinion\">Opinion</a>,\n",
       " <a class=\"media-ui-SubmenuDesktop_link-B9b8-zDvba4-\" data-menuid=\"footer-items-menu\" data-submenuid=\"footer-items-menu\" href=\"https://www.bloomberg.com/audio\">Audio</a>,\n",
       " <a class=\"media-ui-SubmenuDesktop_link-B9b8-zDvba4-\" data-menuid=\"footer-items-menu\" data-submenuid=\"footer-items-menu\" href=\"https://www.bloomberg.com/originals\">Originals</a>,\n",
       " <a class=\"media-ui-SubmenuDesktop_link-B9b8-zDvba4-\" data-menuid=\"footer-items-menu\" data-submenuid=\"footer-items-menu\" href=\"https://www.bloomberg.com/businessweek\">Magazine</a>,\n",
       " <a class=\"media-ui-SubmenuDesktop_link-B9b8-zDvba4-\" data-menuid=\"footer-items-menu\" data-submenuid=\"footer-items-menu\" href=\"https://www.bloomberg.com/live-events\">Events</a>,\n",
       " <a class=\"media-ui-SubmenuDesktop_link-B9b8-zDvba4-\" data-menuid=\"footer-items-menu\" data-submenuid=\"footer-items-menu\" href=\"https://www.bloomberg.com/markets\">Markets</a>,\n",
       " <a class=\"media-ui-SubmenuDesktop_link-B9b8-zDvba4-\" data-menuid=\"footer-items-menu\" data-submenuid=\"footer-items-menu\" href=\"https://www.bloomberg.com/economics\">Economics</a>,\n",
       " <a class=\"media-ui-SubmenuDesktop_link-B9b8-zDvba4-\" data-menuid=\"footer-items-menu\" data-submenuid=\"footer-items-menu\" href=\"https://www.bloomberg.com/technology\">Technology</a>,\n",
       " <a class=\"media-ui-SubmenuDesktop_link-B9b8-zDvba4-\" data-menuid=\"footer-items-menu\" data-submenuid=\"footer-items-menu\" href=\"https://www.bloomberg.com/politics\">Politics</a>,\n",
       " <a class=\"media-ui-SubmenuDesktop_link-B9b8-zDvba4-\" data-menuid=\"footer-items-menu\" data-submenuid=\"footer-items-menu\" href=\"https://www.bloomberg.com/green\">Green</a>,\n",
       " <a class=\"media-ui-SubmenuDesktop_link-B9b8-zDvba4-\" data-menuid=\"footer-items-menu\" data-submenuid=\"footer-items-menu\" href=\"https://www.bloomberg.com/crypto\">Crypto</a>,\n",
       " <a class=\"media-ui-SubmenuDesktop_link-B9b8-zDvba4-\" data-menuid=\"footer-items-menu\" data-submenuid=\"footer-items-menu\" href=\"https://www.bloomberg.com/ai\">AI</a>,\n",
       " <a class=\"media-ui-SubmenuDesktop_link-B9b8-zDvba4-\" data-menuid=\"footer-items-menu\" data-submenuid=\"footer-items-menu\" href=\"https://www.bloomberg.com/wealth\">Wealth</a>,\n",
       " <a class=\"media-ui-SubmenuDesktop_link-B9b8-zDvba4-\" data-menuid=\"footer-items-menu\" data-submenuid=\"footer-items-menu\" href=\"https://www.bloomberg.com/pursuits\">Pursuits</a>,\n",
       " <a class=\"media-ui-SubmenuDesktop_link-B9b8-zDvba4-\" data-menuid=\"footer-items-menu\" data-submenuid=\"footer-items-menu\" href=\"https://www.bloomberg.com/businessweek\">Businessweek</a>,\n",
       " <a class=\"media-ui-SubmenuDesktop_link-B9b8-zDvba4-\" data-menuid=\"footer-items-menu\" data-submenuid=\"footer-items-menu\" href=\"https://www.bloomberg.com/citylab\">CityLab</a>,\n",
       " <a class=\"media-ui-SubmenuDesktop_link-B9b8-zDvba4-\" data-menuid=\"footer-items-menu\" data-submenuid=\"footer-items-menu\" href=\"https://www.bloomberg.com/equality\">Equality</a>,\n",
       " <a class=\"media-ui-SubmenuDesktop_link-B9b8-zDvba4-\" data-menuid=\"footer-items-menu\" data-submenuid=\"footer-items-menu\" href=\"https://www.bloomberg.com/pursuits\">Pursuits</a>,\n",
       " <a class=\"media-ui-SubmenuDesktop_link-B9b8-zDvba4-\" data-menuid=\"footer-items-menu\" data-submenuid=\"footer-items-menu\" href=\"https://www.bloomberg.com/work-shift\">Work Shift</a>,\n",
       " <a class=\"media-ui-SubmenuDesktop_link-B9b8-zDvba4-\" data-menuid=\"footer-items-menu\" data-submenuid=\"footer-items-menu\" href=\"https://www.bloomberg.com/markets/stocks\">Stocks</a>,\n",
       " <a class=\"media-ui-SubmenuDesktop_link-B9b8-zDvba4-\" data-menuid=\"footer-items-menu\" data-submenuid=\"footer-items-menu\" href=\"https://www.bloomberg.com/markets/commodities\">Commodities</a>,\n",
       " <a class=\"media-ui-SubmenuDesktop_link-B9b8-zDvba4-\" data-menuid=\"footer-items-menu\" data-submenuid=\"footer-items-menu\" href=\"https://www.bloomberg.com/markets/rates-bonds\">Rates &amp; Bonds</a>,\n",
       " <a class=\"media-ui-SubmenuDesktop_link-B9b8-zDvba4-\" data-menuid=\"footer-items-menu\" data-submenuid=\"footer-items-menu\" href=\"https://www.bloomberg.com/markets/currencies\">Currencies</a>,\n",
       " <a class=\"media-ui-SubmenuDesktop_link-B9b8-zDvba4-\" data-menuid=\"footer-items-menu\" data-submenuid=\"footer-items-menu\" href=\"https://www.bloomberg.com/markets/stocks/futures\">Futures</a>,\n",
       " <a class=\"media-ui-SubmenuDesktop_link-B9b8-zDvba4-\" data-menuid=\"footer-items-menu\" data-submenuid=\"footer-items-menu\" href=\"https://www.bloomberg.com/markets/sectors\">Sectors</a>,\n",
       " <a class=\"media-ui-SubmenuDesktop_link-B9b8-zDvba4-\" data-menuid=\"footer-items-menu\" data-submenuid=\"footer-items-menu\" href=\"https://www.bloomberg.com/markets/economic-calendar\">Economic Calendar</a>,\n",
       " <a class=\"media-ui-SubmenuDesktop_link-B9b8-zDvba4-\" data-menuid=\"footer-items-menu\" data-submenuid=\"footer-items-menu\" href=\"https://www.bloomberg.com/account/newsletters\">Newsletters</a>,\n",
       " <a class=\"media-ui-SubmenuDesktop_link-B9b8-zDvba4-\" data-menuid=\"footer-items-menu\" data-submenuid=\"footer-items-menu\" href=\"https://www.bloomberg.com/Quicktake\">Explainers</a>,\n",
       " <a class=\"media-ui-SubmenuDesktop_link-B9b8-zDvba4-\" data-menuid=\"footer-items-menu\" data-submenuid=\"footer-items-menu\" href=\"https://www.bloomberg.com/bigtake\">The Big Take</a>,\n",
       " <a class=\"media-ui-SubmenuDesktop_link-B9b8-zDvba4-\" data-menuid=\"footer-items-menu\" data-submenuid=\"footer-items-menu\" href=\"https://www.bloomberg.com/graphics\">Graphics</a>,\n",
       " <a class=\"media-ui-SubmenuDesktop_link-B9b8-zDvba4-\" data-menuid=\"footer-items-menu\" data-submenuid=\"footer-items-menu\" href=\"https://www.bloomberg.com/tips/\">Submit a Tip</a>,\n",
       " <a class=\"media-ui-SubmenuDesktop_link-B9b8-zDvba4-\" data-menuid=\"footer-items-menu\" data-submenuid=\"footer-items-menu\" href=\"https://bloomberg.com/context\">About Us</a>,\n",
       " <a class=\"media-ui-Footer_link-eSdhpCwbm6w-\" href=\"/tos\">Terms of Service</a>,\n",
       " <a class=\"media-ui-Footer_link-eSdhpCwbm6w-\" href=\"/trademarks\">Trademarks</a>,\n",
       " <a class=\"media-ui-Footer_link-eSdhpCwbm6w-\" href=\"/privacy\">Privacy Policy</a>,\n",
       " <a class=\"media-ui-Footer_link-eSdhpCwbm6w-\" href=\"/careers/?utm_source=dotcom&amp;utm_medium=footer\">Careers</a>,\n",
       " <a class=\"media-ui-Footer_link-eSdhpCwbm6w-\" href=\"https://nytech.org/made\">Made in NYC</a>,\n",
       " <a class=\"media-ui-Footer_link-eSdhpCwbm6w-\" href=\"https://www.bloombergmedia.com/contact\">Advertise</a>,\n",
       " <a href=\"/privacy#advertisements\">Ad Choices</a>,\n",
       " <a class=\"media-ui-Footer_link-eSdhpCwbm6w-\" href=\"/help\">Help</a>]"
      ]
     },
     "execution_count": 14,
     "metadata": {},
     "output_type": "execute_result"
    }
   ],
   "source": [
    "all_articles"
   ]
  },
  {
   "cell_type": "code",
   "execution_count": 12,
   "metadata": {},
   "outputs": [],
   "source": [
    "article_urls = []\n",
    "\n",
    "for article in all_articles:\n",
    "\n",
    "    if \"/news/\" in article.attrs[\"href\"]:\n",
    "\n",
    "        article_urls.append(article.attrs[\"href\"])"
   ]
  },
  {
   "cell_type": "code",
   "execution_count": 13,
   "metadata": {},
   "outputs": [
    {
     "data": {
      "text/plain": [
       "['/news/articles/2024-10-03/exxon-sees-1-6-billion-earnings-hit-from-oil-refining-margins?srnd=commodities',\n",
       " '/news/articles/2024-10-03/exxon-sees-1-6-billion-earnings-hit-from-oil-refining-margins?srnd=commodities',\n",
       " '/news/articles/2024-10-03/blackstone-spies-30-trillion-opportunity-in-private-credit?srnd=commodities',\n",
       " '/news/articles/2024-10-03/ecopetrol-says-gas-discovery-could-meet-80-of-colombia-s-demand?srnd=commodities',\n",
       " '/news/articles/2024-10-03/south-african-corn-export-forecast-raised-to-1-9-million-tons?srnd=commodities',\n",
       " '/news/articles/2024-10-03/texas-regulator-wants-data-centers-to-build-power-plants?srnd=commodities',\n",
       " '/news/articles/2024-10-03/adani-group-seeks-to-invest-900-million-in-tanzania-power-lines?srnd=commodities',\n",
       " '/news/articles/2024-10-03/evgo-jumps-37-after-1-1-billion-loan-commitment-from-doe?srnd=commodities',\n",
       " '/news/articles/2024-10-03/south-africa-weighs-measures-to-ease-electricity-price-increase?srnd=commodities',\n",
       " '/news/articles/2024-10-03/kremlin-oil-revenue-grew-in-september-at-companies-expense?srnd=commodities',\n",
       " '/news/articles/2024-10-03/pause-in-china-rally-sparks-wider-drop-in-emerging-market-stocks?srnd=commodities',\n",
       " '/news/articles/2024-10-03/libya-to-restart-oil-production-ending-crisis?srnd=commodities',\n",
       " '/news/articles/2024-10-03/brazil-seen-importing-most-diesel-in-two-years-as-economy-gains?srnd=commodities',\n",
       " '/news/articles/2024-10-03/brazil-seen-importing-most-diesel-in-two-years-as-economy-gains?srnd=commodities',\n",
       " '/news/articles/2024-10-03/nigeria-proposes-new-tax-incentives-to-attract-gas-investors?srnd=commodities',\n",
       " '/news/articles/2024-10-03/nigeria-proposes-new-tax-incentives-to-attract-gas-investors?srnd=commodities',\n",
       " '/news/articles/2024-10-03/oil-tanker-market-surges-as-iran-israel-spurs-cargo-clamor?srnd=commodities',\n",
       " '/news/articles/2024-10-03/oil-tanker-market-surges-as-iran-israel-spurs-cargo-clamor?srnd=commodities',\n",
       " '/news/articles/2024-10-03/helix-energy-solutions-said-to-explore-options-including-sale?srnd=commodities',\n",
       " '/news/articles/2024-10-03/helix-energy-solutions-said-to-explore-options-including-sale?srnd=commodities',\n",
       " '/news/articles/2024-10-03/sudden-shift-on-china-means-lme-week-whiplash-for-metal-traders?srnd=commodities',\n",
       " '/news/articles/2024-10-03/sudden-shift-on-china-means-lme-week-whiplash-for-metal-traders?srnd=commodities',\n",
       " '/news/articles/2024-10-03/green-hydrogen-hype-fades-as-high-costs-force-project-retreat?srnd=commodities',\n",
       " '/news/articles/2024-10-03/green-hydrogen-hype-fades-as-high-costs-force-project-retreat?srnd=commodities']"
      ]
     },
     "execution_count": 13,
     "metadata": {},
     "output_type": "execute_result"
    }
   ],
   "source": [
    "article_urls"
   ]
  },
  {
   "cell_type": "code",
   "execution_count": 49,
   "metadata": {},
   "outputs": [],
   "source": [
    "article_links = []\n",
    "\n",
    "for article in all_articles:\n",
    "\n",
    "    if \"/news/markets/oil-gold-commodities-futures?page=2\" not in article.attrs[\"href\"]:\n",
    "\n",
    "        article_links.append(article.attrs[\"href\"])\n",
    "\n",
    "article_links = set(article_links)\n",
    "article_links = tuple(article_links)"
   ]
  },
  {
   "cell_type": "code",
   "execution_count": 50,
   "metadata": {},
   "outputs": [
    {
     "data": {
      "text/plain": [
       "20"
      ]
     },
     "execution_count": 50,
     "metadata": {},
     "output_type": "execute_result"
    }
   ],
   "source": [
    "len(article_links)"
   ]
  },
  {
   "cell_type": "code",
   "execution_count": 16,
   "metadata": {},
   "outputs": [],
   "source": [
    "from base64 import b64decode\n",
    "\n",
    "with open(\"screen_log.jpeg\", \"wb\") as img:\n",
    "\n",
    "    binary_data = b64decode(http_response_body[\"screenshot\"])\n",
    "\n",
    "    img.write(binary_data)"
   ]
  },
  {
   "cell_type": "code",
   "execution_count": 26,
   "metadata": {},
   "outputs": [],
   "source": [
    "from dotenv import load_dotenv\n",
    "import os\n",
    "import requests\n",
    "\n",
    "load_dotenv()\n",
    "\n",
    "ZYTE_KEY = os.getenv('ZYTE_KEY')\n",
    "BB_EMAIL = os.getenv(\"BB_EMAIL\")\n",
    "BB_PASS = os.getenv(\"BB_PASS\")\n",
    "\n",
    "source_email = f\"\"\"document.querySelector(\"iframe.reg-ui-client__uverify-iframe\").contentDocument.querySelector(\"input[type='email']\").value = \"{BB_EMAIL}\";\"\"\"\n",
    "click_email = f\"\"\"document.querySelector(\"iframe.reg-ui-client__uverify-iframe\").contentDocument.querySelector(\"input[type='email']\").click();\"\"\"\n",
    "click_btn = \"\"\"document.querySelector(\"iframe.reg-ui-client__uverify-iframe\").contentDocument.querySelector(\"button[type='submit']\").click();\"\"\"\n",
    "source_pass = f\"\"\"document.querySelector(\"iframe.reg-ui-client__uverify-iframe\").contentDocument.querySelector(\"input[type='password']\").value = \"{BB_PASS}\";\"\"\"\n",
    "\n",
    "api_response = requests.post(\n",
    "    \"https://api.zyte.com/v1/extract\",\n",
    "    auth = (ZYTE_KEY, \"\"),\n",
    "    json = {\n",
    "  \"url\": \"https://www.bloomberg.com/news/articles/2024-10-03/nigeria-proposes-new-tax-incentives-to-attract-gas-investors?embedded-checkout=True\",\n",
    "  \"screenshot\": True,\n",
    "  \"browserHtml\": True,\n",
    "  \"actions\": [\n",
    "    {\n",
    "      \"action\": \"waitForNavigation\",\n",
    "      \"waitUntil\": \"load\",\n",
    "      \"timeout\": 31,\n",
    "      \"onError\": \"continue\"\n",
    "    },\n",
    "    {\n",
    "      \"action\": \"waitForSelector\",\n",
    "      \"selector\": {\n",
    "        \"type\": \"xpath\",\n",
    "        \"value\": \"//button[contains(text(), \\\"Sign\\\")]\"\n",
    "      },\n",
    "      \"timeout\": 5,\n",
    "      \"onError\": \"return\"\n",
    "    },\n",
    "    {\n",
    "    \"action\": \"interaction\",\n",
    "    \"id\": \"Others-www.bloomberg.com\",\n",
    "    \"args\": {\n",
    "        \"email\": BB_EMAIL,\n",
    "        \"passw\": BB_PASS\n",
    "    }\n",
    "    },\n",
    "    {\n",
    "      \"action\": \"waitForSelector\",\n",
    "      \"selector\": {\n",
    "        \"type\": \"xpath\",\n",
    "        \"value\": '//*[@id=\"__next\"]/div/div[2]/main/div/article[1]/div[5]/div/div[2]/div[3]/p[1]'\n",
    "      },\n",
    "      \"timeout\": 5,\n",
    "      \"onError\": \"continue\"\n",
    "    }\n",
    "  ],\n",
    "    \"screenshotOptions\":{\n",
    "      \"fullPage\" : True\n",
    "    },\n",
    "}\n",
    ")   \n",
    "article_body = api_response.json()"
   ]
  },
  {
   "cell_type": "code",
   "execution_count": 31,
   "metadata": {},
   "outputs": [],
   "source": [
    "cookies = [{\"domain\":\".bloomberg.com\",\"expirationDate\":1743545904.534437,\"httpOnly\":False,\"name\":\"geo_info\",\"path\":\"/\",\"sameSite\":\"unspecified\",\"secure\":False,\"session\":False,\"storeId\":\"0\",\"value\":\"%7B%22countryCode%22%3A%22AR%22%2C%22country%22%3A%22AR%22%2C%22field_d%22%3A%22speedy.com.ar%22%2C%22field_n%22%3A%22hf%22%2C%22trackingRegion%22%3A%22US%22%2C%22cacheExpiredTime%22%3A1728598705210%2C%22region%22%3A%22US%22%2C%22fieldN%22%3A%22hf%22%2C%22fieldD%22%3A%22speedy.com.ar%22%7D%7C1728598705210\"},{\"domain\":\".bloomberg.com\",\"expirationDate\":1728742368.632445,\"httpOnly\":False,\"name\":\"bbgconsentstring\",\"path\":\"/\",\"sameSite\":\"unspecified\",\"secure\":False,\"session\":False,\"storeId\":\"0\",\"value\":\"req1fun1pad1\"},{\"domain\":\".bloomberg.com\",\"expirationDate\":1728598706.12926,\"httpOnly\":False,\"name\":\"consentUUID\",\"path\":\"/\",\"sameSite\":\"no_restriction\",\"secure\":True,\"session\":False,\"storeId\":\"0\",\"value\":\"6b184b71-4a87-40f2-b1af-8a025f836792\"},{\"domain\":\".www.bloomberg.com\",\"expirationDate\":1728598707.763027,\"httpOnly\":False,\"name\":\"geo_info\",\"path\":\"/\",\"sameSite\":\"unspecified\",\"secure\":False,\"session\":False,\"storeId\":\"0\",\"value\":\"{%22country%22:%22AR%22%2C%22region%22:%22US%22%2C%22fieldD%22:%22speedy.com.ar%22%2C%22fieldN%22:%22hf%22}|1728598707761\"},{\"domain\":\".www.bloomberg.com\",\"expirationDate\":1728742377.504454,\"httpOnly\":False,\"name\":\"__stripe_mid\",\"path\":\"/\",\"sameSite\":\"strict\",\"secure\":True,\"session\":False,\"storeId\":\"0\",\"value\":\"587fd5d6-8963-44d0-868c-bd961b25f80cb841de\"},{\"domain\":\".bloomberg.com\",\"expirationDate\":1728742370.826262,\"httpOnly\":False,\"name\":\"optimizelyEndUserId\",\"path\":\"/\",\"sameSite\":\"unspecified\",\"secure\":False,\"session\":False,\"storeId\":\"0\",\"value\":\"oeu1727995024662r0.1573976594148816\"},{\"domain\":\".bloomberg.com\",\"expirationDate\":1728609150.027178,\"httpOnly\":False,\"name\":\"_sp_su\",\"path\":\"/\",\"sameSite\":\"no_restriction\",\"secure\":True,\"session\":False,\"storeId\":\"0\",\"value\":\"False\"},{\"domain\":\".bloomberg.com\",\"httpOnly\":False,\"name\":\"exp_pref\",\"path\":\"/\",\"sameSite\":\"unspecified\",\"secure\":False,\"session\":True,\"storeId\":\"0\",\"value\":\"AMER\"},{\"domain\":\".www.bloomberg.com\",\"httpOnly\":False,\"name\":\"country_code\",\"path\":\"/\",\"sameSite\":\"unspecified\",\"secure\":False,\"session\":True,\"storeId\":\"0\",\"value\":\"AR\"},{\"domain\":\".bloomberg.com\",\"httpOnly\":False,\"name\":\"seen_uk\",\"path\":\"/\",\"sameSite\":\"unspecified\",\"secure\":False,\"session\":True,\"storeId\":\"0\",\"value\":\"1\"},{\"domain\":\".bloomberg.com\",\"httpOnly\":True,\"name\":\"_reg-csrf\",\"path\":\"/\",\"sameSite\":\"unspecified\",\"secure\":True,\"session\":True,\"storeId\":\"0\",\"value\":\"s%3AzDSQ5GUGujuDDej5IgY4A3aX.Efcx%2ByyEmMNBvQkffUFZPFrUEn0CMYILaqLUiCSrBNc\"},{\"domain\":\".bloomberg.com\",\"expirationDate\":1743689571.260656,\"httpOnly\":False,\"name\":\"agent_id\",\"path\":\"/\",\"sameSite\":\"unspecified\",\"secure\":False,\"session\":False,\"storeId\":\"0\",\"value\":\"39f3e147-ff9b-4ec1-b625-00cfa5ebec23\"},{\"domain\":\".bloomberg.com\",\"expirationDate\":1743689571.26087,\"httpOnly\":False,\"name\":\"gatehouse_id\",\"path\":\"/\",\"sameSite\":\"unspecified\",\"secure\":False,\"session\":False,\"storeId\":\"0\",\"value\":\"d61b2750-4b3d-4345-8b27-3a55be01a4c4\"},{\"domain\":\".bloomberg.com\",\"expirationDate\":1743689571.260729,\"httpOnly\":False,\"name\":\"session_id\",\"path\":\"/\",\"sameSite\":\"unspecified\",\"secure\":False,\"session\":False,\"storeId\":\"0\",\"value\":\"fa502809-f144-438d-93e8-f5cf29467a59\"},{\"domain\":\".bloomberg.com\",\"expirationDate\":1743689571.260776,\"httpOnly\":True,\"name\":\"_session_id_backup\",\"path\":\"/\",\"sameSite\":\"unspecified\",\"secure\":False,\"session\":False,\"storeId\":\"0\",\"value\":\"fa502809-f144-438d-93e8-f5cf29467a59\"},{\"domain\":\".bloomberg.com\",\"expirationDate\":1743689571.260825,\"httpOnly\":False,\"name\":\"session_key\",\"path\":\"/\",\"sameSite\":\"unspecified\",\"secure\":False,\"session\":False,\"storeId\":\"0\",\"value\":\"4e5697bcd4226eb513b36338667fba1c887c4b56\"},{\"domain\":\".bloomberg.com\",\"httpOnly\":False,\"name\":\"__sppvid\",\"path\":\"/\",\"sameSite\":\"unspecified\",\"secure\":False,\"session\":True,\"storeId\":\"0\",\"value\":\"2c34efe1-29c7-476b-900e-72cd04c5d3df\"},{\"domain\":\".www.bloomberg.com\",\"expirationDate\":1728139377,\"httpOnly\":False,\"name\":\"__stripe_sid\",\"path\":\"/\",\"sameSite\":\"strict\",\"secure\":True,\"session\":False,\"storeId\":\"0\",\"value\":\"7f8cecd9-fbfb-4618-af15-e7b010eb3f5f58c594\"},{\"domain\":\".bloomberg.com\",\"expirationDate\":1743689603.170008,\"httpOnly\":False,\"name\":\"_breg-uid\",\"path\":\"/\",\"sameSite\":\"unspecified\",\"secure\":False,\"session\":False,\"storeId\":\"0\",\"value\":\"B7D9E9EFBAFF4353B338AF543E98ABCE\"},{\"domain\":\".bloomberg.com\",\"expirationDate\":1743689603.170121,\"httpOnly\":False,\"name\":\"_breg-user\",\"path\":\"/\",\"sameSite\":\"unspecified\",\"secure\":False,\"session\":False,\"storeId\":\"0\",\"value\":\"%7B%22email%22%3A%22james%40jamesdunford.io%22%2C%22firstName%22%3A%22James%22%2C%22lastName%22%3A%22Dunford%22%2C%22createTimestamp%22%3A%222024-09-08T17%3A34%3A05%22%2C%22isBloombergEmployee%22%3AFalse%7D\"},{\"domain\":\".bloomberg.com\",\"httpOnly\":False,\"name\":\"_user-role\",\"path\":\"/\",\"sameSite\":\"unspecified\",\"secure\":False,\"session\":True,\"storeId\":\"0\",\"value\":\"Consumer\"},{\"domain\":\".bloomberg.com\",\"expirationDate\":1728141203.170216,\"httpOnly\":False,\"name\":\"_last-refresh\",\"path\":\"/\",\"sameSite\":\"unspecified\",\"secure\":False,\"session\":False,\"storeId\":\"0\",\"value\":\"2024-10-5%2014%3A13\"},{\"domain\":\".bloomberg.com\",\"expirationDate\":1728141203.170062,\"httpOnly\":False,\"name\":\"_user-data\",\"path\":\"/\",\"sameSite\":\"unspecified\",\"secure\":False,\"session\":False,\"storeId\":\"0\",\"value\":\"%7B%22userRole%22%3A%22Consumer%22%2C%22linkedAccounts%22%3A%22%22%2C%22status%22%3A%22logged_in%22%2C%22subscriberData%22%3A%7B%22introPeriodStatus%22%3A%22end-of-intro%22%2C%22billingPeriod%22%3A%22Annual%22%2C%22subscriptionType%22%3A%22DIGITAL%22%2C%22subscriptionStatus%22%3A%22active%22%2C%22offerType%22%3A%22SINGLE%22%2C%22daysSubscribed%22%3A27%2C%22startDate%22%3A%222024-09-08T17%3A34%3A48Z%22%2C%22subscriptionProvider%22%3A%22ZUORA%22%2C%22subscriber%22%3ATrue%7D%2C%22subscriptionsData%22%3A%5B%7B%22product%22%3A%22BBG%22%2C%22type%22%3A%22DIGITAL%22%2C%22entitlements%22%3A%5B%22bbg-digital%22%5D%7D%5D%7D\"},{\"domain\":\".bloomberg.com\",\"httpOnly\":False,\"name\":\"_reg-csrf-token\",\"path\":\"/\",\"sameSite\":\"unspecified\",\"secure\":True,\"session\":True,\"storeId\":\"0\",\"value\":\"kDIi64bZ-TBmi793rqIKUsAHcd8Aar8aAxuA\"},{\"domain\":\"www.bloomberg.com\",\"expirationDate\":1728138613,\"hostOnly\":True,\"httpOnly\":False,\"name\":\"_dd_s\",\"path\":\"/\",\"sameSite\":\"strict\",\"secure\":False,\"session\":False,\"storeId\":\"0\",\"value\":\"rum=0&expire=1728138611287\"}]\n",
    "\n",
    "cookies_needed = [\"_reg-csrf\", \"_reg-csrf-token\", \"_session_id_backup\", \"session_key\", \"session_id\"]\n",
    "\n",
    "cookies_to_use = []\n",
    "\n",
    "for cookie in cookies:\n",
    "    if cookie[\"name\"] in cookies_needed:\n",
    "        cookies_to_use.append({\"domain\":cookie[\"domain\"], \"value\":cookie[\"value\"], \"name\":cookie[\"name\"]})"
   ]
  },
  {
   "cell_type": "code",
   "execution_count": 25,
   "metadata": {},
   "outputs": [],
   "source": [
    "from base64 import b64decode\n",
    "\n",
    "with open(\"bberg.jpeg\", \"wb\") as img:\n",
    "\n",
    "    binary_data = b64decode(article_body[\"screenshot\"])\n",
    "\n",
    "    img.write(binary_data)"
   ]
  },
  {
   "cell_type": "code",
   "execution_count": null,
   "metadata": {},
   "outputs": [],
   "source": [
    "article_body"
   ]
  },
  {
   "cell_type": "code",
   "execution_count": 27,
   "metadata": {},
   "outputs": [
    {
     "data": {
      "text/plain": [
       "[{'action': 'waitForNavigation', 'elapsedTime': 0.001, 'status': 'success'},\n",
       " {'action': 'waitForSelector', 'elapsedTime': 0.012, 'status': 'success'},\n",
       " {'action': 'interaction',\n",
       "  'elapsedTime': 41.155,\n",
       "  'status': 'returned',\n",
       "  'error': 'frame.waitForSelector exception: Waiting for selector `input#password` failed: Waiting failed: 30000ms exceeded'},\n",
       " {'action': 'waitForSelector',\n",
       "  'elapsedTime': 0,\n",
       "  'status': 'notExecuted',\n",
       "  'error': 'previous action ended with error'}]"
      ]
     },
     "execution_count": 27,
     "metadata": {},
     "output_type": "execute_result"
    }
   ],
   "source": [
    "article_body[\"actions\"]"
   ]
  },
  {
   "cell_type": "code",
   "execution_count": 60,
   "metadata": {},
   "outputs": [],
   "source": [
    "from bs4 import BeautifulSoup\n",
    "\n",
    "soup = BeautifulSoup(article_body[\"browserHtml\"], \"html.parser\")"
   ]
  },
  {
   "cell_type": "code",
   "execution_count": 4,
   "metadata": {},
   "outputs": [],
   "source": [
    "articles = soup.find_all(\"h2\")\n",
    "\n",
    "links = []"
   ]
  },
  {
   "cell_type": "code",
   "execution_count": 5,
   "metadata": {},
   "outputs": [],
   "source": [
    "for a in articles:\n",
    "\n",
    "    if a.find(\"a\") and a:\n",
    "\n",
    "        links.append(a.find(\"a\").attrs[\"href\"])"
   ]
  },
  {
   "cell_type": "code",
   "execution_count": 61,
   "metadata": {},
   "outputs": [
    {
     "ename": "NameError",
     "evalue": "name 'links' is not defined",
     "output_type": "error",
     "traceback": [
      "\u001b[1;31m---------------------------------------------------------------------------\u001b[0m",
      "\u001b[1;31mNameError\u001b[0m                                 Traceback (most recent call last)",
      "Cell \u001b[1;32mIn[61], line 1\u001b[0m\n\u001b[1;32m----> 1\u001b[0m \u001b[43mlinks\u001b[49m\n",
      "\u001b[1;31mNameError\u001b[0m: name 'links' is not defined"
     ]
    }
   ],
   "source": [
    "links"
   ]
  },
  {
   "cell_type": "code",
   "execution_count": 1,
   "metadata": {},
   "outputs": [],
   "source": [
    "def get_article_information(u):\n",
    "\n",
    "    return {\"n\":u,\n",
    "            \"n-1\":u.upper()}"
   ]
  },
  {
   "cell_type": "code",
   "execution_count": 5,
   "metadata": {},
   "outputs": [
    {
     "name": "stdout",
     "output_type": "stream",
     "text": [
      "[{'n': 'ñaña', 'n-1': 'ÑAÑA'}, {'n': 'sae', 'n-1': 'SAE'}]\n"
     ]
    }
   ],
   "source": [
    "from concurrent.futures import ThreadPoolExecutor\n",
    "\n",
    "articles_url = [\"atr\", \"ñaña\", \"sae\", \"aswdasd\", \"#$asdasd\"]\n",
    "\n",
    "with ThreadPoolExecutor() as executor:\n",
    "        results = executor.map(get_article_information, articles_url[1:3])\n",
    "\n",
    "        all_articles_info = list(results)\n",
    "\n",
    "print(all_articles_info)"
   ]
  },
  {
   "cell_type": "code",
   "execution_count": 16,
   "metadata": {},
   "outputs": [],
   "source": [
    "from dotenv import load_dotenv\n",
    "import os\n",
    "\n",
    "load_dotenv()\n",
    "\n",
    "ZYTE_KEY = os.getenv('WSJ_PASS')\n"
   ]
  },
  {
   "cell_type": "code",
   "execution_count": 17,
   "metadata": {},
   "outputs": [
    {
     "name": "stdout",
     "output_type": "stream",
     "text": [
      "iY\\\"8T}E15j@\\\"Uiw\n"
     ]
    }
   ],
   "source": [
    "print(ZYTE_KEY)"
   ]
  },
  {
   "cell_type": "code",
   "execution_count": 20,
   "metadata": {},
   "outputs": [
    {
     "data": {
      "text/plain": [
       "'iY\"8T}E15j@\"Uiw'"
      ]
     },
     "execution_count": 20,
     "metadata": {},
     "output_type": "execute_result"
    }
   ],
   "source": [
    "ZYTE_KEY.replace(\"\\\\\", \"\")"
   ]
  },
  {
   "cell_type": "code",
   "execution_count": 1,
   "metadata": {},
   "outputs": [
    {
     "name": "stdout",
     "output_type": "stream",
     "text": [
      "[Articles Url] Starting scraping process\n",
      "Loaded environment variables\n",
      "\n",
      "Starting request\n",
      "\n",
      "Request finished Successfuly\n",
      "Error getting articles URL, trying again...\n",
      "\n",
      "Starting request\n",
      "\n",
      "Request finished Successfuly\n",
      "SUCCESSFULY EXTRACTED ARTICLES URL\n",
      "\n",
      "----------------------------------------------------------------------\n",
      "\n",
      "\n",
      "Loaded environment variables\n",
      "\n",
      "Starting request\n",
      "\n",
      "Request finished Successfuly\n",
      "SUCCESSFULY EXTRACTED ARTICLES URL\n",
      "\n",
      "----------------------------------------------------------------------\n",
      "\n",
      "\n",
      "Loaded environment variables\n",
      "\n",
      "Starting request\n",
      "\n",
      "Request finished Successfuly\n",
      "Error getting articles URL, trying again...\n",
      "\n",
      "Starting request\n",
      "\n",
      "Request finished Successfuly\n",
      "Error getting articles URL, trying again...\n",
      "\n",
      "Starting request\n",
      "\n",
      "Request finished Successfuly\n",
      "Error getting articles URL, trying again...\n",
      "\n",
      "Starting request\n",
      "\n",
      "Request finished Successfuly\n",
      "SUCCESSFULY EXTRACTED ARTICLES URL\n",
      "\n",
      "----------------------------------------------------------------------\n",
      "\n",
      "\n",
      "Loaded environment variables\n",
      "\n",
      "Starting request\n",
      "\n",
      "Request finished Successfuly\n",
      "Error getting articles URL, trying again...\n",
      "\n",
      "Starting request\n",
      "\n",
      "Request finished Successfuly\n",
      "Error getting articles URL, trying again...\n",
      "\n",
      "Starting request\n",
      "\n",
      "Request finished Successfuly\n",
      "SUCCESSFULY EXTRACTED ARTICLES URL\n",
      "\n",
      "----------------------------------------------------------------------\n",
      "\n",
      "\n"
     ]
    }
   ],
   "source": [
    "from wsj import *\n",
    "\n",
    "print(\"[Articles Url] Starting scraping process\")\n",
    "\n",
    "articles_url = set(get_all_articles_url())\n",
    "\n",
    "while True:\n",
    "\n",
    "    if articles_url:\n",
    "\n",
    "        break\n",
    "\n",
    "    else:\n",
    "\n",
    "        articles_url = set(get_all_articles_url())\n",
    "\n",
    "new_articles_url = articles_url - get_links_from_xml(\"RSS/feed.xml\")\n",
    "\n"
   ]
  },
  {
   "cell_type": "code",
   "execution_count": 3,
   "metadata": {},
   "outputs": [
    {
     "data": {
      "text/plain": [
       "{'https://www.wsj.com/finance/commodities-futures/u-s-natural-gas-futures-edge-cautiously-higher-f065c736'}"
      ]
     },
     "execution_count": 3,
     "metadata": {},
     "output_type": "execute_result"
    }
   ],
   "source": [
    "new_articles_url"
   ]
  },
  {
   "cell_type": "code",
   "execution_count": 4,
   "metadata": {},
   "outputs": [
    {
     "name": "stdout",
     "output_type": "stream",
     "text": [
      "[Articles Info] Starting scraping process\n",
      "{'https://www.wsj.com/finance/commodities-futures/u-s-natural-gas-futures-edge-cautiously-higher-f065c736'}\n",
      "https://www.wsj.com/finance/commodities-futures/u-s-natural-gas-futures-edge-cautiously-higher-f065c736\n",
      "Loaded environment variables\n",
      "\n",
      "Starting request\n",
      "\n",
      "Request finished Successfuly\n",
      "Error: 'NoneType' object has no attribute 'text'\n",
      "Error getting articles infromation, trying again...\n",
      "\n",
      "Starting request\n",
      "\n",
      "Request finished Successfuly\n",
      "SUCCESSFULY EXTRACTED ARTICLES INFORMATION\n",
      "\n",
      "----------------------------------------------------------------------\n",
      "\n",
      "\n",
      "{'title': 'U.S. Natural Gas Futures Strive to Hold $2.50', 'content': '1519 ET – U.S. natural gas futures hand back intraday gains and end the session near flat. Futures are “trying to correct higher from a slightly oversold condition,” Dennis Kissler of BOK Financial BOKF 1.51%increase; green up pointing triangle says in note. But “the shoulder month of October with natural gas still holding a 5% storage premium to the five-year average with falling demand is keeping prices on the defensive,” with the November contract still technically in a bearish structure, he adds. The Nymex front month settles up 0.2% at $2.498/mmBtu, off the session’s high of $2.55/mmBtu. (anthony.harrup@wsj.com) \\nAdvertisement \\n0939 ET – U.S. natural gas futures are gaining modestly with this week’s cold front across the Midwest and Northeast expected to be followed by a mild second half of October. An uptick in production and loss of demand due to hurricanes fueled some of the recent selling. While output remains below year-ago levels, production last year showed its most significant growth in November as heating demand rose, illustrating the industry’s ability to quickly respond to more favorable pricing, Andy Huenefeld of Pinebrook Energy Advisors says in a report. “And the market appears to be banking on a similar pattern emerging in the coming months,” he adds. The Nymex front month is up 1.1% at $2.521/mmBtu. (anthony.harrup@wsj.com) \\n', 'link': 'https://www.wsj.com/finance/commodities-futures/u-s-natural-gas-futures-edge-cautiously-higher-f065c736'}\n"
     ]
    }
   ],
   "source": [
    "print(\"[Articles Info] Starting scraping process\")\n",
    "\n",
    "with ThreadPoolExecutor() as executor:\n",
    "    jobs = []\n",
    "    all_articles_info = []\n",
    "\n",
    "    print(new_articles_url)\n",
    "\n",
    "    for url in new_articles_url:\n",
    "\n",
    "        jobs.append(executor.submit(get_article_information, url))\n",
    "        print(url)\n",
    "\n",
    "    for job in futures.as_completed(jobs):\n",
    "        result = job.result()\n",
    "        print(result)\n",
    "        all_articles_info.append(result)"
   ]
  },
  {
   "cell_type": "code",
   "execution_count": 9,
   "metadata": {},
   "outputs": [
    {
     "name": "stdout",
     "output_type": "stream",
     "text": [
      "1\n"
     ]
    }
   ],
   "source": [
    "for job in futures.as_completed(jobs):\n",
    "    "
   ]
  },
  {
   "cell_type": "code",
   "execution_count": 5,
   "metadata": {},
   "outputs": [
    {
     "data": {
      "text/plain": [
       "[{'title': 'U.S. Natural Gas Futures Strive to Hold $2.50',\n",
       "  'content': '1519 ET – U.S. natural gas futures hand back intraday gains and end the session near flat. Futures are “trying to correct higher from a slightly oversold condition,” Dennis Kissler of BOK Financial BOKF 1.51%increase; green up pointing triangle says in note. But “the shoulder month of October with natural gas still holding a 5% storage premium to the five-year average with falling demand is keeping prices on the defensive,” with the November contract still technically in a bearish structure, he adds. The Nymex front month settles up 0.2% at $2.498/mmBtu, off the session’s high of $2.55/mmBtu. (anthony.harrup@wsj.com) \\nAdvertisement \\n0939 ET – U.S. natural gas futures are gaining modestly with this week’s cold front across the Midwest and Northeast expected to be followed by a mild second half of October. An uptick in production and loss of demand due to hurricanes fueled some of the recent selling. While output remains below year-ago levels, production last year showed its most significant growth in November as heating demand rose, illustrating the industry’s ability to quickly respond to more favorable pricing, Andy Huenefeld of Pinebrook Energy Advisors says in a report. “And the market appears to be banking on a similar pattern emerging in the coming months,” he adds. The Nymex front month is up 1.1% at $2.521/mmBtu. (anthony.harrup@wsj.com) \\n',\n",
       "  'link': 'https://www.wsj.com/finance/commodities-futures/u-s-natural-gas-futures-edge-cautiously-higher-f065c736'},\n",
       " {'title': 'U.S. Natural Gas Futures Strive to Hold $2.50',\n",
       "  'content': '1519 ET – U.S. natural gas futures hand back intraday gains and end the session near flat. Futures are “trying to correct higher from a slightly oversold condition,” Dennis Kissler of BOK Financial BOKF 1.51%increase; green up pointing triangle says in note. But “the shoulder month of October with natural gas still holding a 5% storage premium to the five-year average with falling demand is keeping prices on the defensive,” with the November contract still technically in a bearish structure, he adds. The Nymex front month settles up 0.2% at $2.498/mmBtu, off the session’s high of $2.55/mmBtu. (anthony.harrup@wsj.com) \\nAdvertisement \\n0939 ET – U.S. natural gas futures are gaining modestly with this week’s cold front across the Midwest and Northeast expected to be followed by a mild second half of October. An uptick in production and loss of demand due to hurricanes fueled some of the recent selling. While output remains below year-ago levels, production last year showed its most significant growth in November as heating demand rose, illustrating the industry’s ability to quickly respond to more favorable pricing, Andy Huenefeld of Pinebrook Energy Advisors says in a report. “And the market appears to be banking on a similar pattern emerging in the coming months,” he adds. The Nymex front month is up 1.1% at $2.521/mmBtu. (anthony.harrup@wsj.com) \\n',\n",
       "  'link': 'https://www.wsj.com/finance/commodities-futures/u-s-natural-gas-futures-edge-cautiously-higher-f065c736'}]"
      ]
     },
     "execution_count": 5,
     "metadata": {},
     "output_type": "execute_result"
    }
   ],
   "source": [
    "all_articles_info"
   ]
  }
 ],
 "metadata": {
  "interpreter": {
   "hash": "3a4565eb6215a326995d9cfd00f1782ebb9ab334d122fb684360bfee2e0fdc62"
  },
  "kernelspec": {
   "display_name": "Python 3.9.5 64-bit",
   "language": "python",
   "name": "python3"
  },
  "language_info": {
   "codemirror_mode": {
    "name": "ipython",
    "version": 3
   },
   "file_extension": ".py",
   "mimetype": "text/x-python",
   "name": "python",
   "nbconvert_exporter": "python",
   "pygments_lexer": "ipython3",
   "version": "3.9.5"
  },
  "orig_nbformat": 4
 },
 "nbformat": 4,
 "nbformat_minor": 2
}
