{
 "cells": [
  {
   "cell_type": "code",
   "execution_count": 1,
   "metadata": {},
   "outputs": [],
   "source": [
    "import requests"
   ]
  },
  {
   "cell_type": "code",
   "execution_count": 2,
   "metadata": {},
   "outputs": [],
   "source": [
    "r = requests.get(\"https://www.bloomberg.com/commodities\")"
   ]
  },
  {
   "cell_type": "code",
   "execution_count": 5,
   "metadata": {},
   "outputs": [],
   "source": [
    "with open(\"test.html\", \"x\") as f:\n",
    "\n",
    "    f.write(r.text)"
   ]
  },
  {
   "cell_type": "code",
   "execution_count": 63,
   "metadata": {},
   "outputs": [],
   "source": [
    "from dotenv import load_dotenv\n",
    "import os\n",
    "import requests\n",
    "from base64 import b64decode\n",
    "\n",
    "\n",
    "load_dotenv()\n",
    "\n",
    "ZYTE_KEY = os.getenv('ZYTE_KEY')\n",
    "WSJ_EMAIL = os.getenv('WSJ_EMAIL')\n",
    "WSJ_PASS = os.getenv('WSJ_PASS')\n",
    "\n",
    "\n",
    "api_response = requests.post(\n",
    "    \"https://api.zyte.com/v1/extract\",\n",
    "    auth = (ZYTE_KEY, \"\"),\n",
    "    json = {\n",
    "        \"url\": \"https://www.wsj.com/news/markets/oil-gold-commodities-futures?mod=md_cmd_news_all\",\n",
    "        \"screenshot\": True,\n",
    "        \"javascript\": True,\n",
    "        \"actions\":[{\n",
    "            \"action\": 'waitForSelector',\n",
    "            \"selector\": {\"type\":\"xpath\",\n",
    "                        \"value\":'//a[contains(text(), \"Sign\")]'}\n",
    "            },\n",
    "            {\n",
    "            \"action\": 'click',\n",
    "            \"selector\": {\"type\":\"xpath\",\n",
    "                        \"value\":'//a[contains(text(), \"Sign\")]'}\n",
    "            },\n",
    "            {\n",
    "            \"action\": \"waitForTimeout\",\n",
    "            \"timeout\": 2  \n",
    "            },\n",
    "            {\n",
    "            \"action\": 'waitForSelector',\n",
    "            \"selector\": {\"type\":\"xpath\",\n",
    "                        \"value\":'//*[@id=\"emailOrUsername\"]'},\n",
    "            \"timeout\": 15\n",
    "            },\n",
    "            {\n",
    "            \"action\": \"waitForTimeout\",\n",
    "            \"timeout\": 2  \n",
    "            },\n",
    "            {\n",
    "            \"action\": 'click',\n",
    "            \"selector\": {\"type\":\"xpath\",\n",
    "                        \"value\":'//*[@id=\"emailOrUsername\"]'}\n",
    "            },\n",
    "            {\n",
    "            \"action\": 'type',\n",
    "            \"selector\": {\"type\":\"xpath\",\n",
    "                        \"value\":'//*[@id=\"emailOrUsername\"]'},\n",
    "            \"text\":WSJ_EMAIL\n",
    "            },\n",
    "            {\n",
    "            \"action\": 'click',\n",
    "            \"selector\": {\"type\":\"xpath\",\n",
    "                        \"value\":'//button[text()=\"Continue\"]'}\n",
    "            },\n",
    "            {\n",
    "            \"action\": 'waitForSelector',\n",
    "            \"selector\": {\"type\":\"xpath\",\n",
    "                        \"value\":'//input[@type=\"password\"]'}\n",
    "            },\n",
    "            {\n",
    "            \"action\": 'type',\n",
    "            \"selector\": {\"type\":\"xpath\",\n",
    "                        \"value\":'//input[@type=\"password\"]'},\n",
    "            \"text\":WSJ_PASS\n",
    "            },\n",
    "            {\n",
    "            \"action\": 'click',\n",
    "            \"selector\": {\"type\":\"xpath\",\n",
    "                        \"value\":'//button[contains(text(), \"Sign\")]'}\n",
    "            },\n",
    "            {\n",
    "            \"action\": 'waitForSelector',\n",
    "            \"selector\": {\"type\":\"xpath\",\n",
    "                        \"value\":'//button[contains(text(), \"Continue\")]'}\n",
    "            },\n",
    "            {\n",
    "            \"action\": 'click',\n",
    "            \"selector\": {\"type\":\"xpath\",\n",
    "                        \"value\":'//button[contains(text(), \"Continue\")]'}\n",
    "            },\n",
    "        ],\n",
    "        \"articleNavigation\":True\n",
    "    },\n",
    ")   \n",
    "http_response_body = api_response.json()"
   ]
  },
  {
   "cell_type": "code",
   "execution_count": 64,
   "metadata": {},
   "outputs": [
    {
     "data": {
      "text/plain": [
       "[{'action': 'waitForSelector', 'elapsedTime': 0.022, 'status': 'success'},\n",
       " {'action': 'click', 'elapsedTime': 2.343, 'status': 'success'},\n",
       " {'action': 'waitForTimeout', 'elapsedTime': 2, 'status': 'success'},\n",
       " {'action': 'waitForSelector',\n",
       "  'elapsedTime': 0,\n",
       "  'status': 'notExecuted',\n",
       "  'error': 'Not enough execution time'},\n",
       " {'action': 'waitForTimeout',\n",
       "  'elapsedTime': 0,\n",
       "  'status': 'notExecuted',\n",
       "  'error': 'Not enough execution time'},\n",
       " {'action': 'click',\n",
       "  'elapsedTime': 0,\n",
       "  'status': 'notExecuted',\n",
       "  'error': 'Not enough execution time'},\n",
       " {'action': 'type',\n",
       "  'elapsedTime': 0,\n",
       "  'status': 'notExecuted',\n",
       "  'error': 'Not enough execution time'},\n",
       " {'action': 'click',\n",
       "  'elapsedTime': 0,\n",
       "  'status': 'notExecuted',\n",
       "  'error': 'Not enough execution time'},\n",
       " {'action': 'waitForSelector',\n",
       "  'elapsedTime': 0,\n",
       "  'status': 'notExecuted',\n",
       "  'error': 'Not enough execution time'},\n",
       " {'action': 'type',\n",
       "  'elapsedTime': 0,\n",
       "  'status': 'notExecuted',\n",
       "  'error': 'Not enough execution time'},\n",
       " {'action': 'click',\n",
       "  'elapsedTime': 0,\n",
       "  'status': 'notExecuted',\n",
       "  'error': 'Not enough execution time'},\n",
       " {'action': 'waitForSelector',\n",
       "  'elapsedTime': 0,\n",
       "  'status': 'notExecuted',\n",
       "  'error': 'Not enough execution time'},\n",
       " {'action': 'click',\n",
       "  'elapsedTime': 0,\n",
       "  'status': 'notExecuted',\n",
       "  'error': 'Not enough execution time'}]"
      ]
     },
     "execution_count": 64,
     "metadata": {},
     "output_type": "execute_result"
    }
   ],
   "source": [
    "http_response_body[\"actions\"]"
   ]
  },
  {
   "cell_type": "code",
   "execution_count": 62,
   "metadata": {},
   "outputs": [],
   "source": [
    "with open(\"screen_log.jpeg\", \"wb\") as img:\n",
    "\n",
    "    binary_data = b64decode(http_response_body[\"screenshot\"])\n",
    "\n",
    "    img.write(binary_data)"
   ]
  },
  {
   "cell_type": "code",
   "execution_count": 16,
   "metadata": {},
   "outputs": [],
   "source": [
    "from bs4 import BeautifulSoup\n",
    "\n",
    "soup = BeautifulSoup(http_response_body,\"html.parser\")"
   ]
  },
  {
   "cell_type": "code",
   "execution_count": 4,
   "metadata": {},
   "outputs": [],
   "source": [
    "articles = soup.find_all(\"h2\")\n",
    "\n",
    "links = []"
   ]
  },
  {
   "cell_type": "code",
   "execution_count": 5,
   "metadata": {},
   "outputs": [],
   "source": [
    "for a in articles:\n",
    "\n",
    "    if a.find(\"a\") and a:\n",
    "\n",
    "        links.append(a.find(\"a\").attrs[\"href\"])"
   ]
  },
  {
   "cell_type": "code",
   "execution_count": 6,
   "metadata": {},
   "outputs": [
    {
     "data": {
      "text/plain": [
       "['https://www.wsj.com/business/energy-oil/peak-oil-demand-isnt-on-the-horizon-opec-says-e643ac82',\n",
       " 'https://www.wsj.com/finance/commodities-futures/kazatomprom-shares-soar-as-uranium-excitement-spreads-to-asia-27cbd28c',\n",
       " 'https://www.wsj.com/business/energy-oil/why-washington-and-big-oil-are-investing-billions-in-ammonia-eef4d2eb',\n",
       " 'https://www.wsj.com/finance/commodities-futures/slide-in-iron-ore-prices-a-hiccup-for-miners-amid-copper-scramble-3f629b52',\n",
       " 'https://www.wsj.com/world/asia/china-harnesses-a-technology-that-vexed-the-west-unlocking-a-treasure-chest-5d984585',\n",
       " 'https://www.wsj.com/finance/commodities-futures/an-oil-giant-is-spending-100-million-to-preserve-u-s-forests-24b4f4b8',\n",
       " 'https://www.wsj.com/finance/commodities-futures/the-u-s-corn-crop-is-great-farmers-finances-not-so-much-f9bea8f0',\n",
       " 'https://www.wsj.com/finance/commodities-futures/a-natural-gas-glut-is-forcing-drillers-to-dial-backagain-ff2e56a1',\n",
       " 'https://www.wsj.com/finance/commodities-futures/slowing-us-china-economy-cheaper-gas-08355d5f',\n",
       " 'https://www.wsj.com/business/energy-oil/u-s-crude-oil-inventories-fall-for-sixth-straight-week-b97d2a87',\n",
       " 'https://www.wsj.com/finance/commodities-futures/u-s-crude-oil-inventories-fall-for-fifth-consecutive-week-40f415c9',\n",
       " 'https://www.wsj.com/business/energy-oil/iea-cuts-2025-oil-demand-forecast-lifts-supply-view-84a19fba',\n",
       " 'https://www.wsj.com/finance/commodities-futures/energy-electricity-natural-gas-traders-hedge-funds-de7ab2d1',\n",
       " 'https://www.wsj.com/finance/commodities-futures/lumber-prices-housing-market-31944c27',\n",
       " 'https://www.wsj.com/finance/commodities-futures/ac-electricity-bill-higher-summer-4b9a8edb',\n",
       " 'https://www.wsj.com/economy/central-banking/central-banks-expect-to-snap-up-more-gold-this-year-amid-dollar-pessimism-096ce58f',\n",
       " 'https://www.wsj.com/business/energy-oil/u-s-crude-oil-stocks-rise-by-3-7-million-barrels-in-unexpected-build-6cfc94cd',\n",
       " 'https://www.wsj.com/finance/commodities-futures/wild-weather-is-roiling-electricity-prices-this-startup-is-looking-to-help-61187cef',\n",
       " 'https://www.wsj.com/business/energy-oil/opec-keeps-robust-oil-demand-outlook-after-output-policy-move-d69bc9dc',\n",
       " 'https://www.wsj.com/science/environment/steel-production-startups-carbon-footprint-80a9e8ec']"
      ]
     },
     "execution_count": 6,
     "metadata": {},
     "output_type": "execute_result"
    }
   ],
   "source": [
    "links"
   ]
  },
  {
   "cell_type": "code",
   "execution_count": 7,
   "metadata": {},
   "outputs": [],
   "source": [
    "art_responses = []\n",
    "\n",
    "for art in links:\n",
    "\n",
    "    api_response = requests.post(\n",
    "    \"https://api.zyte.com/v1/extract\",\n",
    "    auth=(ZYTE_KEY, \"\"),\n",
    "    json={\n",
    "        \"url\": art,\n",
    "        \"browserHtml\": True,\n",
    "    },\n",
    "    )\n",
    "\n",
    "    http_response_body = api_response.json()\n",
    "\n",
    "    art_responses.append(http_response_body)\n",
    "\n",
    "    break"
   ]
  },
  {
   "cell_type": "code",
   "execution_count": 10,
   "metadata": {},
   "outputs": [
    {
     "ename": "KeyError",
     "evalue": "'article'",
     "output_type": "error",
     "traceback": [
      "\u001b[1;31m---------------------------------------------------------------------------\u001b[0m",
      "\u001b[1;31mKeyError\u001b[0m                                  Traceback (most recent call last)",
      "Cell \u001b[1;32mIn[10], line 1\u001b[0m\n\u001b[1;32m----> 1\u001b[0m \u001b[43mart_responses\u001b[49m\u001b[43m[\u001b[49m\u001b[38;5;241;43m0\u001b[39;49m\u001b[43m]\u001b[49m\u001b[43m[\u001b[49m\u001b[38;5;124;43m\"\u001b[39;49m\u001b[38;5;124;43marticle\u001b[39;49m\u001b[38;5;124;43m\"\u001b[39;49m\u001b[43m]\u001b[49m\n",
      "\u001b[1;31mKeyError\u001b[0m: 'article'"
     ]
    }
   ],
   "source": [
    "art_responses[0][\"article\"]"
   ]
  }
 ],
 "metadata": {
  "interpreter": {
   "hash": "3a4565eb6215a326995d9cfd00f1782ebb9ab334d122fb684360bfee2e0fdc62"
  },
  "kernelspec": {
   "display_name": "Python 3.9.5 64-bit",
   "language": "python",
   "name": "python3"
  },
  "language_info": {
   "codemirror_mode": {
    "name": "ipython",
    "version": 3
   },
   "file_extension": ".py",
   "mimetype": "text/x-python",
   "name": "python",
   "nbconvert_exporter": "python",
   "pygments_lexer": "ipython3",
   "version": "3.9.5"
  },
  "orig_nbformat": 4
 },
 "nbformat": 4,
 "nbformat_minor": 2
}
