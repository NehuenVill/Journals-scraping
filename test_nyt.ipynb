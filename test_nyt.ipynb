{
 "cells": [
  {
   "cell_type": "code",
   "execution_count": 1,
   "metadata": {},
   "outputs": [],
   "source": [
    "from dotenv import load_dotenv\n",
    "import os\n",
    "import requests\n",
    "\n",
    "load_dotenv()\n",
    "\n",
    "ZYTE_KEY = os.getenv('ZYTE_KEY')\n",
    "\n",
    "api_response = requests.post(\n",
    "    \"https://api.zyte.com/v1/extract\",\n",
    "    auth = (ZYTE_KEY, \"\"),\n",
    "    json = {\n",
    "  \"url\": \"https://www.nytimes.com/topic/subject/oil-and-gasoline\",\n",
    "  \"screenshot\": True,\n",
    "  \"browserHtml\": True,\n",
    "  \"actions\": [\n",
    "    {\n",
    "      \"action\": \"waitForNavigation\",\n",
    "      \"waitUntil\": \"load\",\n",
    "      \"timeout\": 31,\n",
    "      \"onError\": \"continue\"\n",
    "    },\n",
    "    {\n",
    "      \"action\": \"waitForSelector\",\n",
    "      \"selector\": {\n",
    "        \"type\": \"css\",\n",
    "        \"value\": 'h3'\n",
    "      },\n",
    "      \"timeout\": 5,\n",
    "      \"onError\": \"continue\"\n",
    "    },\n",
    "    {\n",
    "      \"action\": \"waitForTimeout\",\n",
    "      \"timeout\": 2,\n",
    "      \"onError\": \"continue\"\n",
    "    }\n",
    "    ],\n",
    "    \"screenshotOptions\":{\n",
    "      \"fullPage\" : True\n",
    "    }\n",
    "}\n",
    ")   \n",
    "http_response_body = api_response.json()"
   ]
  },
  {
   "cell_type": "code",
   "execution_count": 4,
   "metadata": {},
   "outputs": [],
   "source": [
    "from bs4 import BeautifulSoup\n",
    "\n",
    "soup = BeautifulSoup(http_response_body[\"browserHtml\"],\"html.parser\")"
   ]
  },
  {
   "cell_type": "code",
   "execution_count": 18,
   "metadata": {},
   "outputs": [
    {
     "name": "stdout",
     "output_type": "stream",
     "text": [
      "https://www.nytimes.com/2024/10/16/world/africa/nigeria-fuel-tanker-explosion.html\n",
      "https://www.nytimes.com/2024/10/16/climate/global-demand-electricity-rising.html\n",
      "https://www.nytimes.com/2024/10/15/world/middleeast/oil-prices-israel-iran-attacks.html\n",
      "https://www.nytimes.com/2024/10/14/us/politics/russian-oil-price-cap-shadow-fleet.html\n",
      "https://www.nytimes.com/2024/10/11/weather/hurricane-milton-damage.html\n",
      "https://www.nytimes.com/2024/10/11/weather/hurricane-milton-florida-gas-power.html\n",
      "https://www.nytimes.com/2024/10/11/business/oil-prices-iran-israel.html\n",
      "https://www.nytimes.com/2024/10/07/business/middle-east-conflict-economic-risks.html\n",
      "https://www.nytimes.com/article/israel-iran-retaliation.html\n",
      "https://www.nytimes.com/es/2024/10/04/espanol/estados-unidos/iran-israel-biden-mercados.html\n",
      "https://www.nytimes.com/2024/10/04/business/iran-oil-sales-china.html\n",
      "https://www.nytimes.com/2024/10/04/business/britain-carbon-capture.html\n",
      "https://www.nytimes.com/2024/10/04/podcasts/biden-oil.html\n",
      "https://www.nytimes.com/2024/10/03/us/politics/biden-oil-markets-middle-east.html\n",
      "https://www.nytimes.com/2024/10/03/world/middleeast/oil-price-biden-iran-strike.html\n",
      "https://www.nytimes.com/2024/10/03/us/politics/us-economy-inflation-port-strike-helene-israel.html\n",
      "https://www.nytimes.com/2024/10/03/world/europe/russian-oil-tankers-gabon.html\n",
      "https://www.nytimes.com/2024/10/02/climate/walz-oil-gas-vance.html\n",
      "https://www.nytimes.com/2024/10/02/business/iran-israel-oil-prices.html\n",
      "https://www.nytimes.com/2024/09/30/business/energy-environment/ftc-chevron-hess-board.html\n"
     ]
    }
   ],
   "source": [
    "for i in soup.find_all(\"ol\")[0].find_all(\"li\"):\n",
    "\n",
    "    print(f'https://www.nytimes.com{i.find(\"a\").attrs[\"href\"]}')"
   ]
  },
  {
   "cell_type": "code",
   "execution_count": null,
   "metadata": {},
   "outputs": [],
   "source": []
  },
  {
   "cell_type": "code",
   "execution_count": 2,
   "metadata": {},
   "outputs": [],
   "source": [
    "from base64 import b64decode\n",
    "\n",
    "with open(\"screen_nyt.jpeg\", \"wb\") as img:\n",
    "\n",
    "    binary_data = b64decode(http_response_body[\"screenshot\"])\n",
    "\n",
    "    img.write(binary_data)"
   ]
  }
 ],
 "metadata": {
  "interpreter": {
   "hash": "3f1e3333ae0e6f7888df59b914e484e919e7620ff1b3b96dd6326469bdfe7479"
  },
  "kernelspec": {
   "display_name": "Python 3.9.5 ('venv': venv)",
   "language": "python",
   "name": "python3"
  },
  "language_info": {
   "codemirror_mode": {
    "name": "ipython",
    "version": 3
   },
   "file_extension": ".py",
   "mimetype": "text/x-python",
   "name": "python",
   "nbconvert_exporter": "python",
   "pygments_lexer": "ipython3",
   "version": "3.9.5"
  },
  "orig_nbformat": 4
 },
 "nbformat": 4,
 "nbformat_minor": 2
}
